{
 "cells": [
  {
   "cell_type": "code",
   "execution_count": 244,
   "metadata": {},
   "outputs": [],
   "source": [
    "import requests\n",
    "zipcodes = []\n",
    "for i in range(1,76):\n",
    "    url = \"https://nmx-api.new.northwesternmutual.com/nmx-api-proxy/nmx/ms-field/financial_reps.json?page[size]=100&page[number]=\"+str(i)\n",
    "    r = requests.get(url)\n",
    "    infos = r.json()\n",
    "    zipcodes.append(list(map(lambda x:x['zip'], infos)))"
   ]
  },
  {
   "cell_type": "code",
   "execution_count": null,
   "metadata": {},
   "outputs": [],
   "source": []
  }
 ],
 "metadata": {
  "kernelspec": {
   "display_name": "Python 3",
   "language": "python",
   "name": "python3"
  },
  "language_info": {
   "codemirror_mode": {
    "name": "ipython",
    "version": 3
   },
   "file_extension": ".py",
   "mimetype": "text/x-python",
   "name": "python",
   "nbconvert_exporter": "python",
   "pygments_lexer": "ipython3",
   "version": "3.5.4"
  }
 },
 "nbformat": 4,
 "nbformat_minor": 2
}
