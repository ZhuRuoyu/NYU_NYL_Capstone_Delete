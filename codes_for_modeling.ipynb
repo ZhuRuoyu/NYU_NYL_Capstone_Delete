{
  "nbformat": 4,
  "nbformat_minor": 0,
  "metadata": {
    "colab": {
      "name": "Capstone_client_data (1).ipynb",
      "provenance": [],
      "machine_shape": "hm"
    },
    "kernelspec": {
      "name": "python3",
      "display_name": "Python 3"
    },
    "accelerator": "GPU"
  },
  "cells": [
    {
      "cell_type": "code",
      "metadata": {
        "id": "8HAqZJ4iwNIt",
        "colab_type": "code",
        "colab": {}
      },
      "source": [
        "import numpy as np\n",
        "import pandas as pd"
      ],
      "execution_count": 0,
      "outputs": []
    },
    {
      "cell_type": "code",
      "metadata": {
        "id": "aBI9ad52yaSy",
        "colab_type": "code",
        "outputId": "6be1bfac-2bb5-4040-9e69-26dcc2ec58ed",
        "colab": {
          "base_uri": "https://localhost:8080/",
          "height": 122
        }
      },
      "source": [
        "from google.colab import drive\n",
        "drive.mount('/content/drive')"
      ],
      "execution_count": 0,
      "outputs": [
        {
          "output_type": "stream",
          "text": [
            "Go to this URL in a browser: https://accounts.google.com/o/oauth2/auth?client_id=947318989803-6bn6qk8qdgf4n4g3pfee6491hc0brc4i.apps.googleusercontent.com&redirect_uri=urn%3aietf%3awg%3aoauth%3a2.0%3aoob&response_type=code&scope=email%20https%3a%2f%2fwww.googleapis.com%2fauth%2fdocs.test%20https%3a%2f%2fwww.googleapis.com%2fauth%2fdrive%20https%3a%2f%2fwww.googleapis.com%2fauth%2fdrive.photos.readonly%20https%3a%2f%2fwww.googleapis.com%2fauth%2fpeopleapi.readonly\n",
            "\n",
            "Enter your authorization code:\n",
            "··········\n",
            "Mounted at /content/drive\n"
          ],
          "name": "stdout"
        }
      ]
    },
    {
      "cell_type": "code",
      "metadata": {
        "id": "TxwO24gJA9DD",
        "colab_type": "code",
        "colab": {}
      },
      "source": [
        "agent_data = pd.read_csv('/content/drive/My Drive/NYL_data/nyu_capstone_agent.csv')"
      ],
      "execution_count": 0,
      "outputs": []
    },
    {
      "cell_type": "code",
      "metadata": {
        "id": "4IB0yz97BN9M",
        "colab_type": "code",
        "colab": {}
      },
      "source": [
        "pd.DataFrame(agent_data.Years_at_NYL.value_counts()).to_csv('agent_year.csv')"
      ],
      "execution_count": 0,
      "outputs": []
    },
    {
      "cell_type": "markdown",
      "metadata": {
        "id": "Ri8FikRHfNuZ",
        "colab_type": "text"
      },
      "source": [
        "# Txt to csv"
      ]
    },
    {
      "cell_type": "markdown",
      "metadata": {
        "id": "Yp3sJvT0Gafg",
        "colab_type": "text"
      },
      "source": [
        "## masterdemographics"
      ]
    },
    {
      "cell_type": "code",
      "metadata": {
        "colab_type": "code",
        "id": "tXY1iyTXGiOS",
        "colab": {}
      },
      "source": [
        "with open('/content/drive/My Drive/easi/masterdemographics.txt') as f:\n",
        "  header = f.readline()\n",
        "  lines = f.readlines()\n",
        "header = header.replace('\\n','')\n",
        "header = header.strip().split('|')"
      ],
      "execution_count": 0,
      "outputs": []
    },
    {
      "cell_type": "code",
      "metadata": {
        "colab_type": "code",
        "id": "mTt3q6BRGiOZ",
        "colab": {}
      },
      "source": [
        "lines_4 = [line.strip().split('|') for line in lines[600000:]]"
      ],
      "execution_count": 0,
      "outputs": []
    },
    {
      "cell_type": "code",
      "metadata": {
        "colab_type": "code",
        "id": "joJcJbTBGiOb",
        "colab": {}
      },
      "source": [
        "masterdemographics_data_4 = pd.DataFrame(lines_4,columns = header)"
      ],
      "execution_count": 0,
      "outputs": []
    },
    {
      "cell_type": "code",
      "metadata": {
        "colab_type": "code",
        "id": "B_bUHOjoGiOd",
        "colab": {}
      },
      "source": [
        "masterdemographics_data_4.to_csv('/content/drive/My Drive/NYL_data/masterdemographics_data_4.csv')"
      ],
      "execution_count": 0,
      "outputs": []
    },
    {
      "cell_type": "markdown",
      "metadata": {
        "id": "0l8ECzI7fUEz",
        "colab_type": "text"
      },
      "source": [
        "# Data Processing"
      ]
    },
    {
      "cell_type": "markdown",
      "metadata": {
        "id": "SLojF0AXf32R",
        "colab_type": "text"
      },
      "source": [
        "## Select wanted columns"
      ]
    },
    {
      "cell_type": "code",
      "metadata": {
        "id": "VD0fHz97tnZJ",
        "colab_type": "code",
        "outputId": "948960c0-1c57-43cc-84f1-132818f8fa6e",
        "colab": {
          "base_uri": "https://localhost:8080/",
          "height": 232
        }
      },
      "source": [
        "household_cols = masterdemographics_data_1.columns[['household' in x for x in list(masterdemographics_data_1.columns)]]\n",
        "race_cols = masterdemographics_data_1.columns[['race' in x for x in list(masterdemographics_data_1.columns)]]\n",
        "heating_cols = masterdemographics_data_1.columns[['heating' in x for x in list(masterdemographics_data_1.columns)]]\n",
        "asian_cols = masterdemographics_data_1.columns[['asian' in x for x in list(masterdemographics_data_1.columns)]]\n",
        "veterans_cols = masterdemographics_data_1.columns[['veterans' in x for x in list(masterdemographics_data_1.columns)]]\n",
        "hispanic_cols = masterdemographics_data_1.columns[['hispanic' in x for x in list(masterdemographics_data_1.columns)]]\n",
        "white_cols = masterdemographics_data_1.columns[['white' in x for x in list(masterdemographics_data_1.columns)]]\n",
        "black_cols = masterdemographics_data_1.columns[['black' in x for x in list(masterdemographics_data_1.columns)]]\n",
        "native_cols = masterdemographics_data_1.columns[['native' in x for x in list(masterdemographics_data_1.columns)]]\n",
        "ancestry_cols = masterdemographics_data_1.columns[['ancestry' in x for x in list(masterdemographics_data_1.columns)]]\n",
        "citizenship_cols = masterdemographics_data_1.columns[['citizenship' in x for x in list(masterdemographics_data_1.columns)]]"
      ],
      "execution_count": 0,
      "outputs": [
        {
          "output_type": "error",
          "ename": "NameError",
          "evalue": "ignored",
          "traceback": [
            "\u001b[0;31m---------------------------------------------------------------------------\u001b[0m",
            "\u001b[0;31mNameError\u001b[0m                                 Traceback (most recent call last)",
            "\u001b[0;32m<ipython-input-52-be8f9ea45c89>\u001b[0m in \u001b[0;36m<module>\u001b[0;34m()\u001b[0m\n\u001b[0;32m----> 1\u001b[0;31m \u001b[0mhousehold_cols\u001b[0m \u001b[0;34m=\u001b[0m \u001b[0mmasterdemographics_data_1\u001b[0m\u001b[0;34m.\u001b[0m\u001b[0mcolumns\u001b[0m\u001b[0;34m[\u001b[0m\u001b[0;34m[\u001b[0m\u001b[0;34m'household'\u001b[0m \u001b[0;32min\u001b[0m \u001b[0mx\u001b[0m \u001b[0;32mfor\u001b[0m \u001b[0mx\u001b[0m \u001b[0;32min\u001b[0m \u001b[0mlist\u001b[0m\u001b[0;34m(\u001b[0m\u001b[0mmasterdemographics_data_1\u001b[0m\u001b[0;34m.\u001b[0m\u001b[0mcolumns\u001b[0m\u001b[0;34m)\u001b[0m\u001b[0;34m]\u001b[0m\u001b[0;34m]\u001b[0m\u001b[0;34m\u001b[0m\u001b[0;34m\u001b[0m\u001b[0m\n\u001b[0m\u001b[1;32m      2\u001b[0m \u001b[0mrace_cols\u001b[0m \u001b[0;34m=\u001b[0m \u001b[0mmasterdemographics_data_1\u001b[0m\u001b[0;34m.\u001b[0m\u001b[0mcolumns\u001b[0m\u001b[0;34m[\u001b[0m\u001b[0;34m[\u001b[0m\u001b[0;34m'race'\u001b[0m \u001b[0;32min\u001b[0m \u001b[0mx\u001b[0m \u001b[0;32mfor\u001b[0m \u001b[0mx\u001b[0m \u001b[0;32min\u001b[0m \u001b[0mlist\u001b[0m\u001b[0;34m(\u001b[0m\u001b[0mmasterdemographics_data_1\u001b[0m\u001b[0;34m.\u001b[0m\u001b[0mcolumns\u001b[0m\u001b[0;34m)\u001b[0m\u001b[0;34m]\u001b[0m\u001b[0;34m]\u001b[0m\u001b[0;34m\u001b[0m\u001b[0;34m\u001b[0m\u001b[0m\n\u001b[1;32m      3\u001b[0m \u001b[0mheating_cols\u001b[0m \u001b[0;34m=\u001b[0m \u001b[0mmasterdemographics_data_1\u001b[0m\u001b[0;34m.\u001b[0m\u001b[0mcolumns\u001b[0m\u001b[0;34m[\u001b[0m\u001b[0;34m[\u001b[0m\u001b[0;34m'heating'\u001b[0m \u001b[0;32min\u001b[0m \u001b[0mx\u001b[0m \u001b[0;32mfor\u001b[0m \u001b[0mx\u001b[0m \u001b[0;32min\u001b[0m \u001b[0mlist\u001b[0m\u001b[0;34m(\u001b[0m\u001b[0mmasterdemographics_data_1\u001b[0m\u001b[0;34m.\u001b[0m\u001b[0mcolumns\u001b[0m\u001b[0;34m)\u001b[0m\u001b[0;34m]\u001b[0m\u001b[0;34m]\u001b[0m\u001b[0;34m\u001b[0m\u001b[0;34m\u001b[0m\u001b[0m\n\u001b[1;32m      4\u001b[0m \u001b[0masian_cols\u001b[0m \u001b[0;34m=\u001b[0m \u001b[0mmasterdemographics_data_1\u001b[0m\u001b[0;34m.\u001b[0m\u001b[0mcolumns\u001b[0m\u001b[0;34m[\u001b[0m\u001b[0;34m[\u001b[0m\u001b[0;34m'asian'\u001b[0m \u001b[0;32min\u001b[0m \u001b[0mx\u001b[0m \u001b[0;32mfor\u001b[0m \u001b[0mx\u001b[0m \u001b[0;32min\u001b[0m \u001b[0mlist\u001b[0m\u001b[0;34m(\u001b[0m\u001b[0mmasterdemographics_data_1\u001b[0m\u001b[0;34m.\u001b[0m\u001b[0mcolumns\u001b[0m\u001b[0;34m)\u001b[0m\u001b[0;34m]\u001b[0m\u001b[0;34m]\u001b[0m\u001b[0;34m\u001b[0m\u001b[0;34m\u001b[0m\u001b[0m\n\u001b[1;32m      5\u001b[0m \u001b[0mveterans_cols\u001b[0m \u001b[0;34m=\u001b[0m \u001b[0mmasterdemographics_data_1\u001b[0m\u001b[0;34m.\u001b[0m\u001b[0mcolumns\u001b[0m\u001b[0;34m[\u001b[0m\u001b[0;34m[\u001b[0m\u001b[0;34m'veterans'\u001b[0m \u001b[0;32min\u001b[0m \u001b[0mx\u001b[0m \u001b[0;32mfor\u001b[0m \u001b[0mx\u001b[0m \u001b[0;32min\u001b[0m \u001b[0mlist\u001b[0m\u001b[0;34m(\u001b[0m\u001b[0mmasterdemographics_data_1\u001b[0m\u001b[0;34m.\u001b[0m\u001b[0mcolumns\u001b[0m\u001b[0;34m)\u001b[0m\u001b[0;34m]\u001b[0m\u001b[0;34m]\u001b[0m\u001b[0;34m\u001b[0m\u001b[0;34m\u001b[0m\u001b[0m\n",
            "\u001b[0;31mNameError\u001b[0m: name 'masterdemographics_data_1' is not defined"
          ]
        }
      ]
    },
    {
      "cell_type": "code",
      "metadata": {
        "id": "7lmS11jFu0m9",
        "colab_type": "code",
        "colab": {}
      },
      "source": [
        "pd.DataFrame(set(wanted_cols) - set(household_cols)- set(race_cols)- set(heating_cols)-set(asian_cols)- set(veterans_cols)- set(hispanic_cols)- set(white_cols)- set(black_cols)- set(native_cols) - set (ancestry_cols)).to_csv('wanted.csv')"
      ],
      "execution_count": 0,
      "outputs": []
    },
    {
      "cell_type": "markdown",
      "metadata": {
        "id": "JXyzpi-DCZ65",
        "colab_type": "text"
      },
      "source": [
        "## Concat dataset"
      ]
    },
    {
      "cell_type": "code",
      "metadata": {
        "id": "5jEFpVXCuvzg",
        "colab_type": "code",
        "colab": {}
      },
      "source": [
        "wanted_cols = pd.read_csv('/content/drive/My Drive/NYL_data/wanted_cols.csv')\n",
        "wanted_cols = list(wanted_cols['0'])\n",
        "wanted_cols = wanted_cols[:(len(wanted_cols)-1)]"
      ],
      "execution_count": 0,
      "outputs": []
    },
    {
      "cell_type": "code",
      "metadata": {
        "id": "7Hds1ziLfWL0",
        "colab_type": "code",
        "outputId": "768a2082-3e53-460e-91f8-e935ffe34157",
        "colab": {
          "base_uri": "https://localhost:8080/",
          "height": 139
        }
      },
      "source": [
        "masterdemographics_data_1 = pd.read_csv('/content/drive/My Drive/NYL_data/masterdemographics_data_1.csv',usecols = wanted_cols)\n",
        "masterdemographics_data_2 = pd.read_csv('/content/drive/My Drive/NYL_data/masterdemographics_data_2.csv',usecols = wanted_cols)\n",
        "masterdemographics_data_3 = pd.read_csv('/content/drive/My Drive/NYL_data/masterdemographics_data_3.csv',usecols = wanted_cols)\n",
        "masterdemographics_data_4 = pd.read_csv('/content/drive/My Drive/NYL_data/masterdemographics_data_4.csv',usecols = wanted_cols)"
      ],
      "execution_count": 0,
      "outputs": [
        {
          "output_type": "stream",
          "text": [
            "/usr/local/lib/python3.6/dist-packages/IPython/core/interactiveshell.py:2718: DtypeWarning: Columns (1,2,3,4,5,8,11,15,16,17,25,26,27,28,40,41,44,45,46,49,50,62,63,82,98,99,100,101,102,103,104,105,106,107,108,109,110,111,112,113,114,116,121,122,135,137,242,263,264,265,266,281,295,296,304,307,322,323,336,340,344,347,348,349,350,351,352,353,355,359,362,363,364,365,366,367,368,759,760,761,762,763,764,765,766,767,768,769,770,771,772,773,774,779,780,781,782,783,784,785,786,787,788,789,790,791,792,793,794,795,796,797,798,799,800,801,802,803,805,806,807,808,809,810,811,812,813,814,815,816,817,818,819,1192) have mixed types. Specify dtype option on import or set low_memory=False.\n",
            "  interactivity=interactivity, compiler=compiler, result=result)\n",
            "/usr/local/lib/python3.6/dist-packages/IPython/core/interactiveshell.py:2718: DtypeWarning: Columns (1,2,3,4,5,6,7,8,9,10,11,15,16,17,25,26,27,28,40,41,44,45,46,49,50,62,63,82,98,99,100,101,102,103,104,105,106,107,108,109,110,111,112,113,114,116,121,122,135,137,242,263,264,265,266,281,295,296,304,307,322,323,336,340,344,347,348,349,350,351,352,353,355,359,362,363,364,365,366,367,368,759,760,761,762,763,764,765,766,767,768,769,770,771,772,773,774,779,780,781,782,783,784,785,786,787,788,789,790,791,792,793,794,795,796,797,798,799,800,801,802,803,805,806,807,808,809,810,811,812,813,814,815,816,817,818,819,1192) have mixed types. Specify dtype option on import or set low_memory=False.\n",
            "  interactivity=interactivity, compiler=compiler, result=result)\n",
            "/usr/local/lib/python3.6/dist-packages/IPython/core/interactiveshell.py:2718: DtypeWarning: Columns (1,2,3,4,5,6,8,11,15,16,17,25,26,27,28,40,41,44,45,46,49,50,62,63,82,98,99,100,101,102,103,104,105,106,107,108,109,110,111,112,113,114,116,121,122,135,137,242,263,264,265,266,281,295,296,304,307,322,323,336,340,344,347,348,349,350,351,352,353,355,359,362,363,364,365,366,367,368,759,760,761,762,763,764,765,766,767,768,769,770,771,772,773,774,779,780,781,782,783,784,785,786,787,788,789,790,791,792,793,794,795,796,797,798,799,800,801,802,803,805,806,807,808,809,810,811,812,813,814,815,816,817,818,819,1192) have mixed types. Specify dtype option on import or set low_memory=False.\n",
            "  interactivity=interactivity, compiler=compiler, result=result)\n"
          ],
          "name": "stderr"
        }
      ]
    },
    {
      "cell_type": "code",
      "metadata": {
        "id": "lLZZjb6fXrp5",
        "colab_type": "code",
        "outputId": "bd0b7154-3621-41b3-9bc4-49a33d3e9a12",
        "colab": {
          "base_uri": "https://localhost:8080/",
          "height": 253
        }
      },
      "source": [
        "masterdemographics_data_1.head()"
      ],
      "execution_count": 0,
      "outputs": [
        {
          "output_type": "execute_result",
          "data": {
            "text/html": [
              "<div>\n",
              "<style scoped>\n",
              "    .dataframe tbody tr th:only-of-type {\n",
              "        vertical-align: middle;\n",
              "    }\n",
              "\n",
              "    .dataframe tbody tr th {\n",
              "        vertical-align: top;\n",
              "    }\n",
              "\n",
              "    .dataframe thead th {\n",
              "        text-align: right;\n",
              "    }\n",
              "</style>\n",
              "<table border=\"1\" class=\"dataframe\">\n",
              "  <thead>\n",
              "    <tr style=\"text-align: right;\">\n",
              "      <th></th>\n",
              "      <th>masterdemographics.easi_block_group</th>\n",
              "      <th>masterdemographics.block_group</th>\n",
              "      <th>masterdemographics.easi_census_tract</th>\n",
              "      <th>masterdemographics.census_tract</th>\n",
              "      <th>masterdemographics.zip_code</th>\n",
              "      <th>masterdemographics.post_office_name</th>\n",
              "      <th>masterdemographics.city_name</th>\n",
              "      <th>masterdemographics.city_code</th>\n",
              "      <th>masterdemographics.city_type</th>\n",
              "      <th>masterdemographics.county_name</th>\n",
              "      <th>masterdemographics.county_fips_code</th>\n",
              "      <th>masterdemographics.state_abbreviation</th>\n",
              "      <th>masterdemographics.state_name</th>\n",
              "      <th>masterdemographics.cbsa_name</th>\n",
              "      <th>masterdemographics.cbsa_code</th>\n",
              "      <th>masterdemographics.cbsa_type_1_metropolitan_2_micropolitan</th>\n",
              "      <th>masterdemographics.area_code</th>\n",
              "      <th>masterdemographics.population_1_1_2017</th>\n",
              "      <th>masterdemographics.population_1_1_2022</th>\n",
              "      <th>masterdemographics.population_growth_2017_2010</th>\n",
              "      <th>masterdemographics.population_forecast_2022_2017</th>\n",
              "      <th>masterdemographics.family_population</th>\n",
              "      <th>masterdemographics.non_family_population</th>\n",
              "      <th>masterdemographics.families</th>\n",
              "      <th>masterdemographics.families_married</th>\n",
              "      <th>masterdemographics.other_families</th>\n",
              "      <th>masterdemographics.families_married_with_children_under_18</th>\n",
              "      <th>masterdemographics.families_married_with_no_children_under_18</th>\n",
              "      <th>masterdemographics.population_urban</th>\n",
              "      <th>masterdemographics.population_rural</th>\n",
              "      <th>masterdemographics.population_median_age</th>\n",
              "      <th>masterdemographics.population_males_never_married_pop_15</th>\n",
              "      <th>masterdemographics.population_males_married_pop_15</th>\n",
              "      <th>masterdemographics.population_males_married_and_together_pop_15</th>\n",
              "      <th>masterdemographics.population_males_married_and_separated_pop_15</th>\n",
              "      <th>masterdemographics.population_males_married_and_absent_pop_15</th>\n",
              "      <th>masterdemographics.population_males_widowed_pop_15</th>\n",
              "      <th>masterdemographics.population_males_divorced_pop_15</th>\n",
              "      <th>masterdemographics.population_females_never_married_pop_15</th>\n",
              "      <th>masterdemographics.population_females_married_pop_15</th>\n",
              "      <th>...</th>\n",
              "      <th>masterdemographics.non_families_with_income_15_000_to_24_999</th>\n",
              "      <th>masterdemographics.non_families_with_income_25_000_to_34_999</th>\n",
              "      <th>masterdemographics.non_families_with_income_35_000_to_49_999</th>\n",
              "      <th>masterdemographics.non_families_with_income_50_000_to_74_999</th>\n",
              "      <th>masterdemographics.non_families_with_income_75_000_to_99_999</th>\n",
              "      <th>masterdemographics.non_families_with_income_100_000_to_124_999</th>\n",
              "      <th>masterdemographics.non_families_with_income_125_000_to_149_999</th>\n",
              "      <th>masterdemographics.non_families_with_income_150_000_to_199_999</th>\n",
              "      <th>masterdemographics.non_families_with_income_200_000_and_over</th>\n",
              "      <th>masterdemographics.families_1_person</th>\n",
              "      <th>masterdemographics.families_2_person</th>\n",
              "      <th>masterdemographics.families_3_person</th>\n",
              "      <th>masterdemographics.families_4_person</th>\n",
              "      <th>masterdemographics.families_5_person</th>\n",
              "      <th>masterdemographics.families_6_person</th>\n",
              "      <th>masterdemographics.families_7_or_more_person</th>\n",
              "      <th>masterdemographics.family_median_size</th>\n",
              "      <th>masterdemographics.non_families_1_person</th>\n",
              "      <th>masterdemographics.non_families_2_person</th>\n",
              "      <th>masterdemographics.non_families_3_person</th>\n",
              "      <th>masterdemographics.non_families_4_person</th>\n",
              "      <th>masterdemographics.non_families_5_person</th>\n",
              "      <th>masterdemographics.non_families_6_person</th>\n",
              "      <th>masterdemographics.non_families_7_or_more_person</th>\n",
              "      <th>masterdemographics.families_aged_under_25_years</th>\n",
              "      <th>masterdemographics.families_aged_25_to_34_years</th>\n",
              "      <th>masterdemographics.families_aged_35_to_44_years</th>\n",
              "      <th>masterdemographics.families_aged_45_to_54_years</th>\n",
              "      <th>masterdemographics.families_aged_55_to_64_years</th>\n",
              "      <th>masterdemographics.families_aged_65_to_74_years</th>\n",
              "      <th>masterdemographics.families_aged_75_years_and_over</th>\n",
              "      <th>masterdemographics.families_median_age</th>\n",
              "      <th>masterdemographics.non_families_aged_under_25_years</th>\n",
              "      <th>masterdemographics.non_families_aged_25_to_34_years</th>\n",
              "      <th>masterdemographics.non_families_aged_35_to_44_years</th>\n",
              "      <th>masterdemographics.non_families_aged_45_to_54_years</th>\n",
              "      <th>masterdemographics.non_families_aged_55_to_64_years</th>\n",
              "      <th>masterdemographics.non_families_aged_65_to_74_years</th>\n",
              "      <th>masterdemographics.non_families_aged_75_years_and_over</th>\n",
              "      <th>masterdemographics.population_in_poverty_total</th>\n",
              "    </tr>\n",
              "  </thead>\n",
              "  <tbody>\n",
              "    <tr>\n",
              "      <th>0</th>\n",
              "      <td>4.013082e+07</td>\n",
              "      <td>1</td>\n",
              "      <td>40130820.08</td>\n",
              "      <td>82008</td>\n",
              "      <td>85037</td>\n",
              "      <td>Phoenix</td>\n",
              "      <td>Phoenix city, AZ</td>\n",
              "      <td>455000.0</td>\n",
              "      <td>C1</td>\n",
              "      <td>Maricopa, AZ</td>\n",
              "      <td>4013</td>\n",
              "      <td>AZ</td>\n",
              "      <td>Arizona</td>\n",
              "      <td>Phoenix-Mesa-Scottsdale, AZ</td>\n",
              "      <td>38060.0</td>\n",
              "      <td>1.0</td>\n",
              "      <td>623</td>\n",
              "      <td>1932</td>\n",
              "      <td>2019</td>\n",
              "      <td>10.15</td>\n",
              "      <td>4.50</td>\n",
              "      <td>1664</td>\n",
              "      <td>90</td>\n",
              "      <td>372</td>\n",
              "      <td>221</td>\n",
              "      <td>151</td>\n",
              "      <td>153</td>\n",
              "      <td>68</td>\n",
              "      <td>1754</td>\n",
              "      <td>0</td>\n",
              "      <td>26.6</td>\n",
              "      <td>260</td>\n",
              "      <td>328</td>\n",
              "      <td>281</td>\n",
              "      <td>19</td>\n",
              "      <td>28</td>\n",
              "      <td>0</td>\n",
              "      <td>12</td>\n",
              "      <td>193</td>\n",
              "      <td>365</td>\n",
              "      <td>...</td>\n",
              "      <td>6</td>\n",
              "      <td>6</td>\n",
              "      <td>6</td>\n",
              "      <td>5</td>\n",
              "      <td>5</td>\n",
              "      <td>5</td>\n",
              "      <td>3</td>\n",
              "      <td>0</td>\n",
              "      <td>16</td>\n",
              "      <td>0</td>\n",
              "      <td>56</td>\n",
              "      <td>62</td>\n",
              "      <td>95</td>\n",
              "      <td>68</td>\n",
              "      <td>47</td>\n",
              "      <td>44</td>\n",
              "      <td>4.72</td>\n",
              "      <td>42</td>\n",
              "      <td>15</td>\n",
              "      <td>3</td>\n",
              "      <td>1</td>\n",
              "      <td>1</td>\n",
              "      <td>0</td>\n",
              "      <td>0</td>\n",
              "      <td>16</td>\n",
              "      <td>68</td>\n",
              "      <td>113</td>\n",
              "      <td>77</td>\n",
              "      <td>55</td>\n",
              "      <td>32</td>\n",
              "      <td>11</td>\n",
              "      <td>44.0</td>\n",
              "      <td>5</td>\n",
              "      <td>11</td>\n",
              "      <td>5</td>\n",
              "      <td>11</td>\n",
              "      <td>14</td>\n",
              "      <td>12</td>\n",
              "      <td>4</td>\n",
              "      <td>335</td>\n",
              "    </tr>\n",
              "    <tr>\n",
              "      <th>1</th>\n",
              "      <td>4.013082e+07</td>\n",
              "      <td>2</td>\n",
              "      <td>40130820.08</td>\n",
              "      <td>82008</td>\n",
              "      <td>85037</td>\n",
              "      <td>Phoenix</td>\n",
              "      <td>Phoenix city, AZ</td>\n",
              "      <td>455000.0</td>\n",
              "      <td>C1</td>\n",
              "      <td>Maricopa, AZ</td>\n",
              "      <td>4013</td>\n",
              "      <td>AZ</td>\n",
              "      <td>Arizona</td>\n",
              "      <td>Phoenix-Mesa-Scottsdale, AZ</td>\n",
              "      <td>38060.0</td>\n",
              "      <td>1.0</td>\n",
              "      <td>623</td>\n",
              "      <td>1834</td>\n",
              "      <td>1914</td>\n",
              "      <td>12.93</td>\n",
              "      <td>4.36</td>\n",
              "      <td>1538</td>\n",
              "      <td>86</td>\n",
              "      <td>356</td>\n",
              "      <td>215</td>\n",
              "      <td>141</td>\n",
              "      <td>156</td>\n",
              "      <td>59</td>\n",
              "      <td>1624</td>\n",
              "      <td>0</td>\n",
              "      <td>25.4</td>\n",
              "      <td>199</td>\n",
              "      <td>313</td>\n",
              "      <td>270</td>\n",
              "      <td>0</td>\n",
              "      <td>43</td>\n",
              "      <td>0</td>\n",
              "      <td>27</td>\n",
              "      <td>188</td>\n",
              "      <td>295</td>\n",
              "      <td>...</td>\n",
              "      <td>28</td>\n",
              "      <td>0</td>\n",
              "      <td>31</td>\n",
              "      <td>0</td>\n",
              "      <td>0</td>\n",
              "      <td>0</td>\n",
              "      <td>0</td>\n",
              "      <td>0</td>\n",
              "      <td>0</td>\n",
              "      <td>0</td>\n",
              "      <td>60</td>\n",
              "      <td>72</td>\n",
              "      <td>75</td>\n",
              "      <td>64</td>\n",
              "      <td>42</td>\n",
              "      <td>43</td>\n",
              "      <td>4.61</td>\n",
              "      <td>42</td>\n",
              "      <td>16</td>\n",
              "      <td>4</td>\n",
              "      <td>0</td>\n",
              "      <td>0</td>\n",
              "      <td>0</td>\n",
              "      <td>0</td>\n",
              "      <td>20</td>\n",
              "      <td>86</td>\n",
              "      <td>115</td>\n",
              "      <td>79</td>\n",
              "      <td>30</td>\n",
              "      <td>20</td>\n",
              "      <td>6</td>\n",
              "      <td>41.3</td>\n",
              "      <td>5</td>\n",
              "      <td>9</td>\n",
              "      <td>9</td>\n",
              "      <td>13</td>\n",
              "      <td>14</td>\n",
              "      <td>4</td>\n",
              "      <td>8</td>\n",
              "      <td>298</td>\n",
              "    </tr>\n",
              "    <tr>\n",
              "      <th>2</th>\n",
              "      <td>4.013082e+07</td>\n",
              "      <td>3</td>\n",
              "      <td>40130820.08</td>\n",
              "      <td>82008</td>\n",
              "      <td>85037</td>\n",
              "      <td>Phoenix</td>\n",
              "      <td>Glendale city, AZ</td>\n",
              "      <td>427820.0</td>\n",
              "      <td>C1</td>\n",
              "      <td>Maricopa, AZ</td>\n",
              "      <td>4013</td>\n",
              "      <td>AZ</td>\n",
              "      <td>Arizona</td>\n",
              "      <td>Phoenix-Mesa-Scottsdale, AZ</td>\n",
              "      <td>38060.0</td>\n",
              "      <td>1.0</td>\n",
              "      <td>623</td>\n",
              "      <td>1896</td>\n",
              "      <td>1984</td>\n",
              "      <td>12.86</td>\n",
              "      <td>4.64</td>\n",
              "      <td>1541</td>\n",
              "      <td>134</td>\n",
              "      <td>379</td>\n",
              "      <td>216</td>\n",
              "      <td>163</td>\n",
              "      <td>158</td>\n",
              "      <td>58</td>\n",
              "      <td>1680</td>\n",
              "      <td>0</td>\n",
              "      <td>26.9</td>\n",
              "      <td>299</td>\n",
              "      <td>199</td>\n",
              "      <td>152</td>\n",
              "      <td>8</td>\n",
              "      <td>39</td>\n",
              "      <td>0</td>\n",
              "      <td>76</td>\n",
              "      <td>226</td>\n",
              "      <td>295</td>\n",
              "      <td>...</td>\n",
              "      <td>69</td>\n",
              "      <td>0</td>\n",
              "      <td>0</td>\n",
              "      <td>7</td>\n",
              "      <td>1</td>\n",
              "      <td>0</td>\n",
              "      <td>0</td>\n",
              "      <td>0</td>\n",
              "      <td>0</td>\n",
              "      <td>0</td>\n",
              "      <td>73</td>\n",
              "      <td>81</td>\n",
              "      <td>92</td>\n",
              "      <td>67</td>\n",
              "      <td>38</td>\n",
              "      <td>28</td>\n",
              "      <td>4.39</td>\n",
              "      <td>53</td>\n",
              "      <td>28</td>\n",
              "      <td>7</td>\n",
              "      <td>1</td>\n",
              "      <td>0</td>\n",
              "      <td>0</td>\n",
              "      <td>0</td>\n",
              "      <td>26</td>\n",
              "      <td>111</td>\n",
              "      <td>112</td>\n",
              "      <td>73</td>\n",
              "      <td>44</td>\n",
              "      <td>6</td>\n",
              "      <td>7</td>\n",
              "      <td>39.7</td>\n",
              "      <td>2</td>\n",
              "      <td>19</td>\n",
              "      <td>22</td>\n",
              "      <td>22</td>\n",
              "      <td>18</td>\n",
              "      <td>6</td>\n",
              "      <td>0</td>\n",
              "      <td>334</td>\n",
              "    </tr>\n",
              "    <tr>\n",
              "      <th>3</th>\n",
              "      <td>4.013082e+07</td>\n",
              "      <td>1</td>\n",
              "      <td>40130820.09</td>\n",
              "      <td>82009</td>\n",
              "      <td>85037</td>\n",
              "      <td>Phoenix</td>\n",
              "      <td>Phoenix city, AZ</td>\n",
              "      <td>455000.0</td>\n",
              "      <td>C1</td>\n",
              "      <td>Maricopa, AZ</td>\n",
              "      <td>4013</td>\n",
              "      <td>AZ</td>\n",
              "      <td>Arizona</td>\n",
              "      <td>Phoenix-Mesa-Scottsdale, AZ</td>\n",
              "      <td>38060.0</td>\n",
              "      <td>1.0</td>\n",
              "      <td>623</td>\n",
              "      <td>2506</td>\n",
              "      <td>2615</td>\n",
              "      <td>11.18</td>\n",
              "      <td>4.35</td>\n",
              "      <td>2121</td>\n",
              "      <td>133</td>\n",
              "      <td>492</td>\n",
              "      <td>309</td>\n",
              "      <td>183</td>\n",
              "      <td>212</td>\n",
              "      <td>97</td>\n",
              "      <td>2254</td>\n",
              "      <td>0</td>\n",
              "      <td>26.7</td>\n",
              "      <td>327</td>\n",
              "      <td>374</td>\n",
              "      <td>332</td>\n",
              "      <td>17</td>\n",
              "      <td>25</td>\n",
              "      <td>18</td>\n",
              "      <td>79</td>\n",
              "      <td>303</td>\n",
              "      <td>309</td>\n",
              "      <td>...</td>\n",
              "      <td>17</td>\n",
              "      <td>16</td>\n",
              "      <td>0</td>\n",
              "      <td>48</td>\n",
              "      <td>16</td>\n",
              "      <td>0</td>\n",
              "      <td>0</td>\n",
              "      <td>1</td>\n",
              "      <td>0</td>\n",
              "      <td>0</td>\n",
              "      <td>94</td>\n",
              "      <td>86</td>\n",
              "      <td>104</td>\n",
              "      <td>97</td>\n",
              "      <td>49</td>\n",
              "      <td>62</td>\n",
              "      <td>4.63</td>\n",
              "      <td>74</td>\n",
              "      <td>18</td>\n",
              "      <td>3</td>\n",
              "      <td>1</td>\n",
              "      <td>2</td>\n",
              "      <td>0</td>\n",
              "      <td>0</td>\n",
              "      <td>19</td>\n",
              "      <td>126</td>\n",
              "      <td>150</td>\n",
              "      <td>101</td>\n",
              "      <td>55</td>\n",
              "      <td>31</td>\n",
              "      <td>10</td>\n",
              "      <td>41.7</td>\n",
              "      <td>7</td>\n",
              "      <td>9</td>\n",
              "      <td>16</td>\n",
              "      <td>23</td>\n",
              "      <td>25</td>\n",
              "      <td>12</td>\n",
              "      <td>6</td>\n",
              "      <td>473</td>\n",
              "    </tr>\n",
              "    <tr>\n",
              "      <th>4</th>\n",
              "      <td>4.013082e+07</td>\n",
              "      <td>2</td>\n",
              "      <td>40130820.09</td>\n",
              "      <td>82009</td>\n",
              "      <td>85037</td>\n",
              "      <td>Phoenix</td>\n",
              "      <td>Phoenix city, AZ</td>\n",
              "      <td>455000.0</td>\n",
              "      <td>C1</td>\n",
              "      <td>Maricopa, AZ</td>\n",
              "      <td>4013</td>\n",
              "      <td>AZ</td>\n",
              "      <td>Arizona</td>\n",
              "      <td>Phoenix-Mesa-Scottsdale, AZ</td>\n",
              "      <td>38060.0</td>\n",
              "      <td>1.0</td>\n",
              "      <td>623</td>\n",
              "      <td>2649</td>\n",
              "      <td>2762</td>\n",
              "      <td>9.73</td>\n",
              "      <td>4.27</td>\n",
              "      <td>2281</td>\n",
              "      <td>133</td>\n",
              "      <td>523</td>\n",
              "      <td>330</td>\n",
              "      <td>193</td>\n",
              "      <td>221</td>\n",
              "      <td>109</td>\n",
              "      <td>2414</td>\n",
              "      <td>0</td>\n",
              "      <td>25.9</td>\n",
              "      <td>329</td>\n",
              "      <td>390</td>\n",
              "      <td>359</td>\n",
              "      <td>14</td>\n",
              "      <td>17</td>\n",
              "      <td>22</td>\n",
              "      <td>83</td>\n",
              "      <td>301</td>\n",
              "      <td>398</td>\n",
              "      <td>...</td>\n",
              "      <td>6</td>\n",
              "      <td>18</td>\n",
              "      <td>0</td>\n",
              "      <td>12</td>\n",
              "      <td>36</td>\n",
              "      <td>1</td>\n",
              "      <td>0</td>\n",
              "      <td>0</td>\n",
              "      <td>3</td>\n",
              "      <td>0</td>\n",
              "      <td>103</td>\n",
              "      <td>84</td>\n",
              "      <td>115</td>\n",
              "      <td>89</td>\n",
              "      <td>58</td>\n",
              "      <td>74</td>\n",
              "      <td>4.65</td>\n",
              "      <td>50</td>\n",
              "      <td>25</td>\n",
              "      <td>7</td>\n",
              "      <td>1</td>\n",
              "      <td>0</td>\n",
              "      <td>0</td>\n",
              "      <td>1</td>\n",
              "      <td>24</td>\n",
              "      <td>112</td>\n",
              "      <td>169</td>\n",
              "      <td>108</td>\n",
              "      <td>70</td>\n",
              "      <td>27</td>\n",
              "      <td>13</td>\n",
              "      <td>42.4</td>\n",
              "      <td>2</td>\n",
              "      <td>8</td>\n",
              "      <td>19</td>\n",
              "      <td>22</td>\n",
              "      <td>23</td>\n",
              "      <td>4</td>\n",
              "      <td>6</td>\n",
              "      <td>495</td>\n",
              "    </tr>\n",
              "  </tbody>\n",
              "</table>\n",
              "<p>5 rows × 141 columns</p>\n",
              "</div>"
            ],
            "text/plain": [
              "   masterdemographics.easi_block_group  ...  masterdemographics.population_in_poverty_total\n",
              "0                         4.013082e+07  ...                                             335\n",
              "1                         4.013082e+07  ...                                             298\n",
              "2                         4.013082e+07  ...                                             334\n",
              "3                         4.013082e+07  ...                                             473\n",
              "4                         4.013082e+07  ...                                             495\n",
              "\n",
              "[5 rows x 141 columns]"
            ]
          },
          "metadata": {
            "tags": []
          },
          "execution_count": 149
        }
      ]
    },
    {
      "cell_type": "code",
      "metadata": {
        "id": "X1TP9YrtlUg0",
        "colab_type": "code",
        "colab": {}
      },
      "source": [
        "masterdemographics_data = pd.concat([masterdemographics_data_1,masterdemographics_data_2,\\\n",
        "                                     masterdemographics_data_3,masterdemographics_data_4])"
      ],
      "execution_count": 0,
      "outputs": []
    },
    {
      "cell_type": "markdown",
      "metadata": {
        "id": "1tqC0BErlq3S",
        "colab_type": "text"
      },
      "source": [
        "## combine columns"
      ]
    },
    {
      "cell_type": "code",
      "metadata": {
        "id": "AawXONu3rPMw",
        "colab_type": "code",
        "colab": {}
      },
      "source": [
        "masterdemographics_data = masterdemographics_data.drop(['masterdemographics.population_males_married_and_together_pop_15',\\\n",
        "                                                      'masterdemographics.population_males_married_and_separated_pop_15',\\\n",
        "                                                      'masterdemographics.population_males_married_and_absent_pop_15',\\\n",
        "                                                      'masterdemographics.population_males_widowed_pop_15',\\\n",
        "                                                      'masterdemographics.population_males_divorced_pop_15'],axis = 1)\n",
        "masterdemographics_data = masterdemographics_data.drop(['masterdemographics.population_females_married_and_together_pop_15',\\\n",
        "                                                      'masterdemographics.population_females_married_and_separated_pop_15',\\\n",
        "                                                      'masterdemographics.population_females_married_and_absent_pop_15',\\\n",
        "                                                      'masterdemographics.population_females_widowed_pop_15',\\\n",
        "                                                      'masterdemographics.population_females_divorced_pop_15'],axis = 1)"
      ],
      "execution_count": 0,
      "outputs": []
    },
    {
      "cell_type": "code",
      "metadata": {
        "id": "d6RM2ic0qsN7",
        "colab_type": "code",
        "colab": {}
      },
      "source": [
        "\n",
        "masterdemographics_data['masterdemographics.families_more_than_3_person'] = masterdemographics_data['masterdemographics.families_4_person']+\\\n",
        "                                                                   masterdemographics_data['masterdemographics.families_5_person']+\\\n",
        "                                                                   masterdemographics_data['masterdemographics.families_6_person']+\\\n",
        "                                                                   masterdemographics_data['masterdemographics.families_7_or_more_person']\n",
        "masterdemographics_data = masterdemographics_data.drop(['masterdemographics.families_4_person',\\\n",
        "                                                        'masterdemographics.families_5_person',\\\n",
        "                                                        'masterdemographics.families_6_person',\\\n",
        "                                                        'masterdemographics.families_7_or_more_person'],\\\n",
        "                                                        axis = 1)"
      ],
      "execution_count": 0,
      "outputs": []
    },
    {
      "cell_type": "code",
      "metadata": {
        "id": "x1FPHEus0bay",
        "colab_type": "code",
        "colab": {}
      },
      "source": [
        "masterdemographics_data['masterdemographics.non_families_more_than_3_person'] = masterdemographics_data['masterdemographics.non_families_4_person']+masterdemographics_data['masterdemographics.non_families_5_person']+masterdemographics_data['masterdemographics.non_families_6_person']+masterdemographics_data['masterdemographics.non_families_7_or_more_person']\n",
        "masterdemographics_data = masterdemographics_data.drop(['masterdemographics.non_families_4_person','masterdemographics.non_families_5_person','masterdemographics.non_families_6_person','masterdemographics.non_families_7_or_more_person'],axis = 1)"
      ],
      "execution_count": 0,
      "outputs": []
    },
    {
      "cell_type": "code",
      "metadata": {
        "id": "1Z4xxOuFugOQ",
        "colab_type": "code",
        "colab": {}
      },
      "source": [
        "masterdemographics_data['masterdemographics.families_with_low_income'] = masterdemographics_data['masterdemographics.families_with_income_less_than_15_000']+masterdemographics_data['masterdemographics.families_with_income_15_000_to_24_999']+masterdemographics_data['masterdemographics.families_with_income_25_000_to_34_999']+masterdemographics_data['masterdemographics.families_with_income_35_000_to_49_999']\n",
        "masterdemographics_data = masterdemographics_data.drop(['masterdemographics.families_with_income_less_than_15_000',\\\n",
        "                                                        'masterdemographics.families_with_income_15_000_to_24_999',\\\n",
        "                                                        'masterdemographics.families_with_income_25_000_to_34_999',\\\n",
        "                                                        'masterdemographics.families_with_income_35_000_to_49_999'],axis = 1)\n",
        "masterdemographics_data['masterdemographics.families_with_medium_income'] = masterdemographics_data['masterdemographics.families_with_income_50_000_to_74_999']+\\\n",
        "                                                                            masterdemographics_data['masterdemographics.families_with_income_75_000_to_99_999']+\\\n",
        "                                                                            masterdemographics_data['masterdemographics.families_with_income_100_000_to_124_999']\n",
        "\n",
        "masterdemographics_data = masterdemographics_data.drop(['masterdemographics.families_with_income_50_000_to_74_999',\\\n",
        "                                                        'masterdemographics.families_with_income_75_000_to_99_999',\\\n",
        "                                                        'masterdemographics.families_with_income_100_000_to_124_999'],\\\n",
        "                                                        axis = 1)\n",
        "masterdemographics_data['masterdemographics.families_with_high_income'] = masterdemographics_data['masterdemographics.families_with_income_125_000_to_149_999']+\\\n",
        "                                                                            masterdemographics_data['masterdemographics.families_with_income_150_000_to_199_999']+\\\n",
        "                                                                            masterdemographics_data['masterdemographics.families_with_income_200_000_and_over']\n",
        "\n",
        "masterdemographics_data = masterdemographics_data.drop(['masterdemographics.families_with_income_125_000_to_149_999',\\\n",
        "                                                        'masterdemographics.families_with_income_150_000_to_199_999',\\\n",
        "                                                        'masterdemographics.families_with_income_200_000_and_over'],\\\n",
        "                                                        axis = 1)\n"
      ],
      "execution_count": 0,
      "outputs": []
    },
    {
      "cell_type": "code",
      "metadata": {
        "id": "wiB9QiYuzT3C",
        "colab_type": "code",
        "colab": {}
      },
      "source": [
        "masterdemographics_data['masterdemographics.non_families_with_low_income'] = masterdemographics_data['masterdemographics.non_families_with_income_less_than_15_000']+masterdemographics_data['masterdemographics.non_families_with_income_15_000_to_24_999']+masterdemographics_data['masterdemographics.non_families_with_income_25_000_to_34_999']+masterdemographics_data['masterdemographics.non_families_with_income_35_000_to_49_999']\n",
        "masterdemographics_data = masterdemographics_data.drop(['masterdemographics.non_families_with_income_less_than_15_000',\\\n",
        "                                                        'masterdemographics.non_families_with_income_15_000_to_24_999',\\\n",
        "                                                        'masterdemographics.non_families_with_income_25_000_to_34_999',\\\n",
        "                                                        'masterdemographics.non_families_with_income_35_000_to_49_999'],axis = 1)\n",
        "masterdemographics_data['masterdemographics.non_families_with_medium_income'] = masterdemographics_data['masterdemographics.non_families_with_income_50_000_to_74_999']+\\\n",
        "                                                                            masterdemographics_data['masterdemographics.non_families_with_income_75_000_to_99_999']+\\\n",
        "                                                                            masterdemographics_data['masterdemographics.non_families_with_income_100_000_to_124_999']\n",
        "\n",
        "masterdemographics_data = masterdemographics_data.drop(['masterdemographics.non_families_with_income_50_000_to_74_999',\\\n",
        "                                                        'masterdemographics.non_families_with_income_75_000_to_99_999',\\\n",
        "                                                        'masterdemographics.non_families_with_income_100_000_to_124_999'],\\\n",
        "                                                        axis = 1)\n",
        "masterdemographics_data['masterdemographics.non_families_with_high_income'] = masterdemographics_data['masterdemographics.non_families_with_income_125_000_to_149_999']+\\\n",
        "                                                                            masterdemographics_data['masterdemographics.non_families_with_income_150_000_to_199_999']+\\\n",
        "                                                                            masterdemographics_data['masterdemographics.non_families_with_income_200_000_and_over']\n",
        "\n",
        "masterdemographics_data = masterdemographics_data.drop(['masterdemographics.non_families_with_income_125_000_to_149_999',\\\n",
        "                                                        'masterdemographics.non_families_with_income_150_000_to_199_999',\\\n",
        "                                                        'masterdemographics.non_families_with_income_200_000_and_over'],\\\n",
        "                                                        axis = 1)"
      ],
      "execution_count": 0,
      "outputs": []
    },
    {
      "cell_type": "code",
      "metadata": {
        "id": "gMdMZnnNx9jE",
        "colab_type": "code",
        "colab": {}
      },
      "source": [
        "geo_cols = ['masterdemographics.easi_block_group',\n",
        " 'masterdemographics.block_group',\n",
        " 'masterdemographics.easi_census_tract',\n",
        " 'masterdemographics.census_tract',\n",
        " 'masterdemographics.zip_code',\n",
        " 'masterdemographics.post_office_name',\n",
        " 'masterdemographics.city_name',\n",
        " 'masterdemographics.city_code',\n",
        " 'masterdemographics.city_type',\n",
        " 'masterdemographics.county_name',\n",
        " 'masterdemographics.county_fips_code',\n",
        " 'masterdemographics.state_abbreviation',\n",
        " 'masterdemographics.state_name',\n",
        " 'masterdemographics.cbsa_name',\n",
        " 'masterdemographics.cbsa_code',\n",
        " 'masterdemographics.cbsa_type_1_metropolitan_2_micropolitan',\n",
        " 'masterdemographics.area_code',\n",
        " 'masterdemographics.latitude',\n",
        " 'masterdemographics.longitude',\n",
        " 'masterdemographics.square_miles']\n",
        "feature = list(set(masterdemographics_data.columns)-set(geo_cols ))"
      ],
      "execution_count": 0,
      "outputs": []
    },
    {
      "cell_type": "markdown",
      "metadata": {
        "id": "5SuPCSER4Z8t",
        "colab_type": "text"
      },
      "source": [
        "## group by county"
      ]
    },
    {
      "cell_type": "code",
      "metadata": {
        "id": "DBYtndaXEqux",
        "colab_type": "code",
        "colab": {}
      },
      "source": [
        "df = masterdemographics_data[feature+['masterdemographics.easi_census_tract','masterdemographics.census_tract']]"
      ],
      "execution_count": 0,
      "outputs": []
    },
    {
      "cell_type": "code",
      "metadata": {
        "id": "Fcai_fZTKGFT",
        "colab_type": "code",
        "colab": {}
      },
      "source": [
        "df = df.loc[df['masterdemographics.families_aged_35_to_44_years'] != 'FMH35_44YR']"
      ],
      "execution_count": 0,
      "outputs": []
    },
    {
      "cell_type": "code",
      "metadata": {
        "id": "uhwiPPKiDtC6",
        "colab_type": "code",
        "colab": {}
      },
      "source": [
        "df = df.dropna(how='any',axis=0) "
      ],
      "execution_count": 0,
      "outputs": []
    },
    {
      "cell_type": "code",
      "metadata": {
        "id": "QJoIdFHUFcJL",
        "colab_type": "code",
        "colab": {}
      },
      "source": [
        "for i in feature:\n",
        "  df[i] = df[i].astype(float)"
      ],
      "execution_count": 0,
      "outputs": []
    },
    {
      "cell_type": "code",
      "metadata": {
        "id": "Wm23_2mLYJwF",
        "colab_type": "code",
        "colab": {}
      },
      "source": [
        "df['masterdemographics.easi_census_tract'] = df['masterdemographics.easi_census_tract'].astype(float)"
      ],
      "execution_count": 0,
      "outputs": []
    },
    {
      "cell_type": "code",
      "metadata": {
        "id": "3VHPQtY-YTFL",
        "colab_type": "code",
        "colab": {}
      },
      "source": [
        "\n",
        "df ['masterdemographics.easi_census_tract']   = df ['masterdemographics.easi_census_tract']  * 100"
      ],
      "execution_count": 0,
      "outputs": []
    },
    {
      "cell_type": "code",
      "metadata": {
        "id": "sun4AQp3Y6bc",
        "colab_type": "code",
        "colab": {}
      },
      "source": [
        "df ['masterdemographics.easi_census_tract'] = df ['masterdemographics.easi_census_tract'].astype(int)"
      ],
      "execution_count": 0,
      "outputs": []
    },
    {
      "cell_type": "code",
      "metadata": {
        "id": "1kL6jnrxROUN",
        "colab_type": "code",
        "colab": {}
      },
      "source": [
        "df.to_csv('/content/drive/My Drive/NYL_data/masterdemographics.csv')"
      ],
      "execution_count": 0,
      "outputs": []
    },
    {
      "cell_type": "code",
      "metadata": {
        "id": "xQ94219pYvfm",
        "colab_type": "code",
        "colab": {}
      },
      "source": [
        "df['masterdemographics.county_fips_code'] = df['masterdemographics.county_fips_code'].astype(str)"
      ],
      "execution_count": 0,
      "outputs": []
    },
    {
      "cell_type": "code",
      "metadata": {
        "id": "CdrIctYG-cPk",
        "colab_type": "code",
        "colab": {}
      },
      "source": [
        "masterdemographics_county = df.groupby('masterdemographics.county_fips_code',as_index = True).sum()"
      ],
      "execution_count": 0,
      "outputs": []
    },
    {
      "cell_type": "code",
      "metadata": {
        "id": "T_pWABDoTKUs",
        "colab_type": "code",
        "colab": {}
      },
      "source": [
        "masterdemographics_county = masterdemographics_county.drop(['masterdemographics.family_income_per_capita',\n",
        "'masterdemographics.employment_walked_to_work_empl_16',\n",
        "'masterdemographics.families_median_age',\n",
        "'masterdemographics.population_median_age'],axis = 1)"
      ],
      "execution_count": 0,
      "outputs": []
    },
    {
      "cell_type": "code",
      "metadata": {
        "id": "bYDzTwKjTkQL",
        "colab_type": "code",
        "colab": {}
      },
      "source": [
        "masterdemographics_county.to_csv('/content/drive/My Drive/NYL_data/masterdemographics_county.csv')"
      ],
      "execution_count": 0,
      "outputs": []
    },
    {
      "cell_type": "code",
      "metadata": {
        "id": "d7-niZyg5UnR",
        "colab_type": "code",
        "colab": {}
      },
      "source": [
        " masterdemographics_county =  masterdemographics_county.drop(['masterdemographics.non_families_median_age','masterdemographics.housing_median_rent',\\\n",
        "                                                              'masterdemographics.family_median_size',\\\n",
        "                                                              'masterdemographics.non_family_income_per_capita',\\\n",
        "                                                              'masterdemographics.non_family_income_average',\n",
        "                                                              'masterdemographics.family_income_median'],axis = 1)"
      ],
      "execution_count": 0,
      "outputs": []
    },
    {
      "cell_type": "markdown",
      "metadata": {
        "id": "Hn44-ZRKjmTP",
        "colab_type": "text"
      },
      "source": [
        "# client Data Modeling"
      ]
    },
    {
      "cell_type": "markdown",
      "metadata": {
        "id": "0SMDvath-ZLy",
        "colab_type": "text"
      },
      "source": [
        "## Import and merge data"
      ]
    },
    {
      "cell_type": "code",
      "metadata": {
        "id": "Jf11KzEijpSM",
        "colab_type": "code",
        "colab": {}
      },
      "source": [
        "census_data = pd.read_csv('/content/drive/My Drive/NYL_data/masterdemographics_county.csv')\n",
        "client_data = pd.read_csv('/content/drive/My Drive/NYL_data/nyu_capstone_client.csv')\n",
        "mature_market = pd.read_csv('/content/drive/My Drive/NYL_data/matured_counties_scz.csv')\n",
        "north_western = pd.read_csv('/content/drive/My Drive/1006Capstone-NYLife/competitor/nw_agent_census_tract_count.csv')"
      ],
      "execution_count": 0,
      "outputs": []
    },
    {
      "cell_type": "code",
      "metadata": {
        "id": "Lbh_AMs59fEd",
        "colab_type": "code",
        "colab": {}
      },
      "source": [
        "geo_cols = ['masterdemographics.easi_block_group',\n",
        " 'masterdemographics.block_group',\n",
        " 'masterdemographics.easi_census_tract',\n",
        " 'masterdemographics.census_tract',\n",
        " 'masterdemographics.zip_code',\n",
        " 'masterdemographics.post_office_name',\n",
        " 'masterdemographics.city_name',\n",
        " 'masterdemographics.city_code',\n",
        " 'masterdemographics.city_type',\n",
        " 'masterdemographics.county_name',\n",
        " 'masterdemographics.county_fips_code',\n",
        " 'masterdemographics.state_abbreviation',\n",
        " 'masterdemographics.state_name',\n",
        " 'masterdemographics.cbsa_name',\n",
        " 'masterdemographics.cbsa_code',\n",
        " 'masterdemographics.cbsa_type_1_metropolitan_2_micropolitan',\n",
        " 'masterdemographics.area_code',\n",
        " 'masterdemographics.latitude',\n",
        " 'masterdemographics.longitude',\n",
        " 'masterdemographics.square_miles',\n",
        " 'masterdemographics.county_fips_code']\n",
        "feature = list(set(census_data.columns)-set(geo_cols)) + ['nw_count']"
      ],
      "execution_count": 0,
      "outputs": []
    },
    {
      "cell_type": "code",
      "metadata": {
        "id": "X5j76UVLlnhc",
        "colab_type": "code",
        "colab": {}
      },
      "source": [
        "del_cols = [x.replace('masterdemographics.','') for x in census_data.columns]\n",
        "feature = [x.replace('masterdemographics.','') for x in feature]\n",
        "census_data.columns = del_cols\n",
        "client_merge = pd.merge(client_data,census_data,left_on = 'County_sales',right_on = 'county_fips_code')\n",
        "client_merge['revenue'] = 500 * client_data['life_sales_low_premium'] + 5000 * client_data['life_sales_medium_premium'] + 10000 * client_data['life_sales_high_premium'] + 1000 * client_data['annuities']\n",
        "client_merge = pd.merge(client_merge,mature_market,left_on = 'County_sales',right_on = 'Matured_counties')"
      ],
      "execution_count": 0,
      "outputs": []
    },
    {
      "cell_type": "code",
      "metadata": {
        "id": "FVc82alFTg3F",
        "colab_type": "code",
        "colab": {}
      },
      "source": [
        "north_western['nw_county'] = [str(x)[:5] for x in list(north_western.nw_geoid)]\n",
        "north_western_county = north_western[['nw_count','nw_county']].groupby('nw_county').sum()"
      ],
      "execution_count": 0,
      "outputs": []
    },
    {
      "cell_type": "code",
      "metadata": {
        "id": "Sv2mmQW-UsSm",
        "colab_type": "code",
        "colab": {}
      },
      "source": [
        "client_merge['County_sales'] = client_merge['County_sales'].astype(str)"
      ],
      "execution_count": 0,
      "outputs": []
    },
    {
      "cell_type": "code",
      "metadata": {
        "id": "bU4YcPBGUKOc",
        "colab_type": "code",
        "colab": {}
      },
      "source": [
        "client_merge = pd.merge(client_merge,north_western_county,left_on ='County_sales',right_on = 'nw_county',how = 'left' )"
      ],
      "execution_count": 0,
      "outputs": []
    },
    {
      "cell_type": "markdown",
      "metadata": {
        "id": "JPLkO9mh-eww",
        "colab_type": "text"
      },
      "source": [
        "## Modeling part"
      ]
    },
    {
      "cell_type": "code",
      "metadata": {
        "id": "m8Jm3UtpgJwI",
        "colab_type": "code",
        "colab": {}
      },
      "source": [
        "from sklearn.model_selection import train_test_split\n",
        "from sklearn.linear_model import LinearRegression\n",
        "from sklearn.metrics import mean_absolute_error\n",
        "from sklearn.linear_model import Lasso \n",
        "from sklearn.model_selection import cross_val_score\n",
        "from sklearn.linear_model import Ridge"
      ],
      "execution_count": 0,
      "outputs": []
    },
    {
      "cell_type": "code",
      "metadata": {
        "id": "2F0mWe_2jxbB",
        "colab_type": "code",
        "colab": {}
      },
      "source": [
        "client_merge['nw_count'] = client_merge['nw_count'].fillna(0)"
      ],
      "execution_count": 0,
      "outputs": []
    },
    {
      "cell_type": "code",
      "metadata": {
        "id": "4Ysu5Kf8kGw3",
        "colab_type": "code",
        "colab": {}
      },
      "source": [
        "# Drop missing values \n",
        "client_merge = client_merge.dropna()\n",
        "# Drop extreme values\n",
        "client_merge  =  client_merge.loc[client_merge.revenue<=client_merge.revenue.quantile(0.95)]"
      ],
      "execution_count": 0,
      "outputs": []
    },
    {
      "cell_type": "code",
      "metadata": {
        "id": "yPzzMdHwOooj",
        "colab_type": "code",
        "colab": {}
      },
      "source": [
        "feature = [x for x in feature if x not in ['family_income_per_capita', 'population_median_age', 'families_median_age', 'employment_walked_to_work_empl_16']]\n",
        "X = client_merge[feature]"
      ],
      "execution_count": 0,
      "outputs": []
    },
    {
      "cell_type": "code",
      "metadata": {
        "id": "cXZyUES3-hdi",
        "colab_type": "code",
        "colab": {}
      },
      "source": [
        "pd.DataFrame(feature).to_csv('feature.csv')"
      ],
      "execution_count": 0,
      "outputs": []
    },
    {
      "cell_type": "markdown",
      "metadata": {
        "id": "GCSgp6Nt_gd3",
        "colab_type": "text"
      },
      "source": [
        "### Linear regression  - baseline"
      ]
    },
    {
      "cell_type": "code",
      "metadata": {
        "id": "ytV_gkiR_-mJ",
        "colab_type": "code",
        "outputId": "f49270a1-e495-4e2f-8a40-f40d1cb231f7",
        "colab": {
          "base_uri": "https://localhost:8080/",
          "height": 34
        }
      },
      "source": [
        "reg = LinearRegression()\n",
        "scores = cross_val_score(reg, X, client_merge['revenue'], cv=100,scoring = 'neg_mean_absolute_error')\n",
        "-np.mean(scores)"
      ],
      "execution_count": 0,
      "outputs": [
        {
          "output_type": "execute_result",
          "data": {
            "text/plain": [
              "22566041.36733437"
            ]
          },
          "metadata": {
            "tags": []
          },
          "execution_count": 56
        }
      ]
    },
    {
      "cell_type": "code",
      "metadata": {
        "id": "ltiOFo-Tb475",
        "colab_type": "code",
        "outputId": "041f67c5-28f3-46a3-d641-799c4c73cfc7",
        "colab": {
          "base_uri": "https://localhost:8080/",
          "height": 68
        }
      },
      "source": [
        "reg"
      ],
      "execution_count": 0,
      "outputs": [
        {
          "output_type": "execute_result",
          "data": {
            "text/plain": [
              "Lasso(alpha=1.0, copy_X=True, fit_intercept=True, max_iter=1000,\n",
              "      normalize=False, positive=False, precompute=False, random_state=None,\n",
              "      selection='cyclic', tol=0.0001, warm_start=False)"
            ]
          },
          "metadata": {
            "tags": []
          },
          "execution_count": 79
        }
      ]
    },
    {
      "cell_type": "code",
      "metadata": {
        "id": "RnDre2vjYY95",
        "colab_type": "code",
        "outputId": "3c555d17-9160-4028-d74b-a92fb1d97e85",
        "colab": {
          "base_uri": "https://localhost:8080/",
          "height": 390
        }
      },
      "source": [
        "reg.fit(X, client_merge['revenue'])\n",
        "coeff_result = pd.concat([pd.DataFrame(X.columns),pd.DataFrame(reg.coef_)],axis = 1)\n",
        "coeff_result.columns = ['feature','score']\n",
        "coeff_result = coeff_result.set_index('feature')\n",
        "coeff_result.loc[a]"
      ],
      "execution_count": 0,
      "outputs": [
        {
          "output_type": "execute_result",
          "data": {
            "text/html": [
              "<div>\n",
              "<style scoped>\n",
              "    .dataframe tbody tr th:only-of-type {\n",
              "        vertical-align: middle;\n",
              "    }\n",
              "\n",
              "    .dataframe tbody tr th {\n",
              "        vertical-align: top;\n",
              "    }\n",
              "\n",
              "    .dataframe thead th {\n",
              "        text-align: right;\n",
              "    }\n",
              "</style>\n",
              "<table border=\"1\" class=\"dataframe\">\n",
              "  <thead>\n",
              "    <tr style=\"text-align: right;\">\n",
              "      <th></th>\n",
              "      <th>score</th>\n",
              "    </tr>\n",
              "    <tr>\n",
              "      <th>feature</th>\n",
              "      <th></th>\n",
              "    </tr>\n",
              "  </thead>\n",
              "  <tbody>\n",
              "    <tr>\n",
              "      <th>education_male_enrolled_public_school_pop_3</th>\n",
              "      <td>1.953394e+00</td>\n",
              "    </tr>\n",
              "    <tr>\n",
              "      <th>families_with_medium_income</th>\n",
              "      <td>-5.881301e-08</td>\n",
              "    </tr>\n",
              "    <tr>\n",
              "      <th>non_families_aged_25_to_34_years</th>\n",
              "      <td>7.005761e+00</td>\n",
              "    </tr>\n",
              "    <tr>\n",
              "      <th>personal_income_total</th>\n",
              "      <td>5.541781e-06</td>\n",
              "    </tr>\n",
              "    <tr>\n",
              "      <th>non_family_income_total</th>\n",
              "      <td>-4.602240e-05</td>\n",
              "    </tr>\n",
              "    <tr>\n",
              "      <th>non_families_aged_under_25_years</th>\n",
              "      <td>-7.272702e+00</td>\n",
              "    </tr>\n",
              "    <tr>\n",
              "      <th>population_females_aged_55_to_64_years</th>\n",
              "      <td>6.808247e+00</td>\n",
              "    </tr>\n",
              "    <tr>\n",
              "      <th>employment_unemployed_female_pop_16</th>\n",
              "      <td>1.916007e+01</td>\n",
              "    </tr>\n",
              "    <tr>\n",
              "      <th>non_families_2_person</th>\n",
              "      <td>-1.313788e+01</td>\n",
              "    </tr>\n",
              "    <tr>\n",
              "      <th>population_females_aged_25_to_34_years</th>\n",
              "      <td>-5.834215e+00</td>\n",
              "    </tr>\n",
              "  </tbody>\n",
              "</table>\n",
              "</div>"
            ],
            "text/plain": [
              "                                                    score\n",
              "feature                                                  \n",
              "education_male_enrolled_public_school_pop_3  1.953394e+00\n",
              "families_with_medium_income                 -5.881301e-08\n",
              "non_families_aged_25_to_34_years             7.005761e+00\n",
              "personal_income_total                        5.541781e-06\n",
              "non_family_income_total                     -4.602240e-05\n",
              "non_families_aged_under_25_years            -7.272702e+00\n",
              "population_females_aged_55_to_64_years       6.808247e+00\n",
              "employment_unemployed_female_pop_16          1.916007e+01\n",
              "non_families_2_person                       -1.313788e+01\n",
              "population_females_aged_25_to_34_years      -5.834215e+00"
            ]
          },
          "metadata": {
            "tags": []
          },
          "execution_count": 78
        }
      ]
    },
    {
      "cell_type": "code",
      "metadata": {
        "id": "5eHMmkrtZrQk",
        "colab_type": "code",
        "outputId": "b6225a96-f384-42d6-fd7f-59e50d50cf53",
        "colab": {
          "base_uri": "https://localhost:8080/",
          "height": 187
        }
      },
      "source": [
        "a"
      ],
      "execution_count": 0,
      "outputs": [
        {
          "output_type": "execute_result",
          "data": {
            "text/plain": [
              "['education_male_enrolled_public_school_pop_3',\n",
              " 'families_with_medium_income',\n",
              " 'non_families_aged_25_to_34_years',\n",
              " 'personal_income_total',\n",
              " 'non_family_income_total',\n",
              " 'non_families_aged_under_25_years',\n",
              " 'population_females_aged_55_to_64_years',\n",
              " 'employment_unemployed_female_pop_16',\n",
              " 'non_families_2_person',\n",
              " 'population_females_aged_25_to_34_years']"
            ]
          },
          "metadata": {
            "tags": []
          },
          "execution_count": 74
        }
      ]
    },
    {
      "cell_type": "markdown",
      "metadata": {
        "id": "2KKwQsRIAoVi",
        "colab_type": "text"
      },
      "source": [
        "### Lasso regression"
      ]
    },
    {
      "cell_type": "code",
      "metadata": {
        "id": "Ah_9g_NNgc7W",
        "colab_type": "code",
        "outputId": "45284ad6-ac40-47bc-d130-a17f03556e4e",
        "colab": {
          "base_uri": "https://localhost:8080/",
          "height": 34
        }
      },
      "source": [
        "import warnings\n",
        "warnings.filterwarnings(\"ignore\")\n",
        "reg = Lasso ()\n",
        "scores = cross_val_score(reg, X, client_merge['revenue'], cv=100,scoring = 'neg_mean_absolute_error')\n",
        "-np.mean(scores)"
      ],
      "execution_count": 0,
      "outputs": [
        {
          "output_type": "execute_result",
          "data": {
            "text/plain": [
              "752059.0393036829"
            ]
          },
          "metadata": {
            "tags": []
          },
          "execution_count": 77
        }
      ]
    },
    {
      "cell_type": "markdown",
      "metadata": {
        "id": "dk1VMR2TBac2",
        "colab_type": "text"
      },
      "source": [
        "### Ridge regression"
      ]
    },
    {
      "cell_type": "code",
      "metadata": {
        "id": "qaWKbqwwhXg5",
        "colab_type": "code",
        "outputId": "25fdb9f7-0921-4c15-aa69-93c4b1f4532a",
        "colab": {
          "base_uri": "https://localhost:8080/",
          "height": 34
        }
      },
      "source": [
        "reg = Ridge()\n",
        "scores = cross_val_score(reg, X, client_merge['revenue'], cv=100,scoring = 'neg_mean_absolute_error')\n",
        "-np.mean(scores)"
      ],
      "execution_count": 0,
      "outputs": [
        {
          "output_type": "execute_result",
          "data": {
            "text/plain": [
              "46099169.92559197"
            ]
          },
          "metadata": {
            "tags": []
          },
          "execution_count": 125
        }
      ]
    },
    {
      "cell_type": "markdown",
      "metadata": {
        "id": "Qcb42wKwCL76",
        "colab_type": "text"
      },
      "source": [
        "### XGBoost"
      ]
    },
    {
      "cell_type": "code",
      "metadata": {
        "id": "Y2G7Kl2SCOjM",
        "colab_type": "code",
        "colab": {}
      },
      "source": [
        "import xgboost as xgb"
      ],
      "execution_count": 0,
      "outputs": []
    },
    {
      "cell_type": "code",
      "metadata": {
        "id": "i0AYhzUrHmGf",
        "colab_type": "code",
        "colab": {}
      },
      "source": [
        "def tuning_parameter(x):\n",
        "    d = x[0, 0]\n",
        "    l = x[0, 1]\n",
        "    n = x[0, 2]\n",
        "    s = x[0, 3]\n",
        "    cv_mae = []\n",
        "    for i in range(30):\n",
        "        m=xgb.XGBRegressor(max_depth=int(d), learning_rate=l,n_estimators=int(n),subsample=s,verbosity = 0)\n",
        "        X_train, X_val, y_train, y_val = train_test_split(X, client_merge['revenue'], test_size=0.1)\n",
        "\n",
        "        m.fit(X_train, y_train)\n",
        "        predict=m.predict(X_val)\n",
        "        cv_mae.append(mean_absolute_error(y_val,predict))\n",
        "    return np.mean(cv_mae)"
      ],
      "execution_count": 0,
      "outputs": []
    },
    {
      "cell_type": "code",
      "metadata": {
        "id": "sGX8KXVy3oHN",
        "colab_type": "code",
        "outputId": "3e788943-7a62-4046-f930-f3e173af21dd",
        "colab": {
          "base_uri": "https://localhost:8080/",
          "height": 479
        }
      },
      "source": [
        "! pip install GPyOpt"
      ],
      "execution_count": 0,
      "outputs": [
        {
          "output_type": "stream",
          "text": [
            "Collecting GPyOpt\n",
            "\u001b[?25l  Downloading https://files.pythonhosted.org/packages/9c/40/ca8f080d74d9f4e29069faa944fcfb083e8693b6daaba0f1e4bc65c88650/GPyOpt-1.2.5.tar.gz (55kB)\n",
            "\r\u001b[K     |██████                          | 10kB 23.5MB/s eta 0:00:01\r\u001b[K     |███████████▉                    | 20kB 1.7MB/s eta 0:00:01\r\u001b[K     |█████████████████▉              | 30kB 2.5MB/s eta 0:00:01\r\u001b[K     |███████████████████████▊        | 40kB 1.7MB/s eta 0:00:01\r\u001b[K     |█████████████████████████████▊  | 51kB 2.1MB/s eta 0:00:01\r\u001b[K     |████████████████████████████████| 61kB 2.0MB/s \n",
            "\u001b[?25hRequirement already satisfied: numpy>=1.7 in /usr/local/lib/python3.6/dist-packages (from GPyOpt) (1.17.4)\n",
            "Requirement already satisfied: scipy>=0.16 in /usr/local/lib/python3.6/dist-packages (from GPyOpt) (1.3.3)\n",
            "Collecting GPy>=1.8\n",
            "\u001b[?25l  Downloading https://files.pythonhosted.org/packages/67/95/976598f98adbfa918a480cb2d643f93fb555ca5b6c5614f76b69678114c1/GPy-1.9.9.tar.gz (995kB)\n",
            "\u001b[K     |████████████████████████████████| 1.0MB 8.0MB/s \n",
            "\u001b[?25hRequirement already satisfied: six in /usr/local/lib/python3.6/dist-packages (from GPy>=1.8->GPyOpt) (1.12.0)\n",
            "Collecting paramz>=0.9.0\n",
            "\u001b[?25l  Downloading https://files.pythonhosted.org/packages/d8/37/4abbeb78d30f20d3402887f46e6e9f3ef32034a9dea65d243654c82c8553/paramz-0.9.5.tar.gz (71kB)\n",
            "\u001b[K     |████████████████████████████████| 71kB 7.8MB/s \n",
            "\u001b[?25hRequirement already satisfied: decorator>=4.0.10 in /usr/local/lib/python3.6/dist-packages (from paramz>=0.9.0->GPy>=1.8->GPyOpt) (4.4.1)\n",
            "Building wheels for collected packages: GPyOpt, GPy, paramz\n",
            "  Building wheel for GPyOpt (setup.py) ... \u001b[?25l\u001b[?25hdone\n",
            "  Created wheel for GPyOpt: filename=GPyOpt-1.2.5-cp36-none-any.whl size=83027 sha256=277d9763e40685cd8d201bd2f8767554d432e34b01864dc7f1d45616bb393078\n",
            "  Stored in directory: /root/.cache/pip/wheels/33/1d/87/dc02440831ba986b1547dd11a7dcd44e893b0527083066d869\n",
            "  Building wheel for GPy (setup.py) ... \u001b[?25l\u001b[?25hdone\n",
            "  Created wheel for GPy: filename=GPy-1.9.9-cp36-cp36m-linux_x86_64.whl size=2633961 sha256=cbe096ac4b42f29091b7e59c008bf49c0f17628790584668f99bef36043500ef\n",
            "  Stored in directory: /root/.cache/pip/wheels/5d/36/66/2b58860c84c9f2b51615da66bfd6feeddbc4e04d887ff96dfa\n",
            "  Building wheel for paramz (setup.py) ... \u001b[?25l\u001b[?25hdone\n",
            "  Created wheel for paramz: filename=paramz-0.9.5-cp36-none-any.whl size=102551 sha256=b7a397c8b9bf3f37e2deb46b4a0f3fc6b1f6fd5e367b9578173a1e27492b0f6c\n",
            "  Stored in directory: /root/.cache/pip/wheels/c8/4a/0e/6e0dc85541825f991c431619e25b870d4b812c911214690cf8\n",
            "Successfully built GPyOpt GPy paramz\n",
            "Installing collected packages: paramz, GPy, GPyOpt\n",
            "Successfully installed GPy-1.9.9 GPyOpt-1.2.5 paramz-0.9.5\n"
          ],
          "name": "stdout"
        }
      ]
    },
    {
      "cell_type": "code",
      "metadata": {
        "id": "_QYO_XKeH1Hi",
        "colab_type": "code",
        "outputId": "237a3afa-7cd7-4a22-c20c-084a7b67fabb",
        "colab": {
          "base_uri": "https://localhost:8080/",
          "height": 272
        }
      },
      "source": [
        "from GPyOpt.methods import BayesianOptimization\n",
        "import numpy as np\n",
        "\n",
        "# --- Define your problem\n",
        "domain = [{'name': 'var_1', 'type': 'discrete', 'domain': (1,2,3,4,5,6,7)},\\\n",
        "          {'name': 'var_2', 'type': 'continuous', 'domain': (0.01,1)},\\\n",
        "          {'name': 'var_3', 'type': 'continuous', 'domain': (1,10)},\\\n",
        "          {'name': 'var_4', 'type': 'continuous', 'domain': (0.01,1)}]\n",
        "        \n",
        "\n",
        "# --- Solve your problem\n",
        "myBopt = BayesianOptimization(f=tuning_parameter, domain=domain)\n",
        "myBopt.run_optimization(max_iter=15,verbosity=True)"
      ],
      "execution_count": 0,
      "outputs": [
        {
          "output_type": "stream",
          "text": [
            "num acquisition: 1, time elapsed: 0.72s\n",
            "num acquisition: 2, time elapsed: 1.52s\n",
            "num acquisition: 3, time elapsed: 2.37s\n",
            "num acquisition: 4, time elapsed: 3.16s\n",
            "num acquisition: 5, time elapsed: 4.01s\n",
            "num acquisition: 6, time elapsed: 4.87s\n",
            "num acquisition: 7, time elapsed: 5.54s\n",
            "num acquisition: 8, time elapsed: 6.39s\n",
            "num acquisition: 9, time elapsed: 7.21s\n",
            "num acquisition: 10, time elapsed: 7.83s\n",
            "num acquisition: 11, time elapsed: 8.54s\n",
            "num acquisition: 12, time elapsed: 9.36s\n",
            "num acquisition: 13, time elapsed: 10.24s\n",
            "num acquisition: 14, time elapsed: 10.98s\n",
            "num acquisition: 15, time elapsed: 11.86s\n"
          ],
          "name": "stdout"
        }
      ]
    },
    {
      "cell_type": "code",
      "metadata": {
        "id": "7AU6gYLZKoc3",
        "colab_type": "code",
        "outputId": "04eed363-c599-4621-cc95-3bec89429ff2",
        "colab": {
          "base_uri": "https://localhost:8080/",
          "height": 34
        }
      },
      "source": [
        "myBopt.fx_opt, myBopt.x_opt"
      ],
      "execution_count": 0,
      "outputs": [
        {
          "output_type": "execute_result",
          "data": {
            "text/plain": [
              "(1129535.996254476, array([5.        , 0.1143144 , 6.23871992, 0.52213238]))"
            ]
          },
          "metadata": {
            "tags": []
          },
          "execution_count": 22
        }
      ]
    },
    {
      "cell_type": "code",
      "metadata": {
        "id": "SZD90KA4LOcS",
        "colab_type": "code",
        "colab": {}
      },
      "source": [
        "#reg = xgb.XGBRegressor(max_depth=3, learning_rate=0.455,n_estimators=4,subsample=0.6935,verbosity = 0)\n",
        "#reg = xgb.XGBRegressor(max_depth=5, learning_rate=0.1143144,n_estimators=6,subsample=0.52213238,verbosity = 0)\n",
        " reg= xgb.XGBRegressor()"
      ],
      "execution_count": 0,
      "outputs": []
    },
    {
      "cell_type": "code",
      "metadata": {
        "id": "O3iC4z41C-rV",
        "colab_type": "code",
        "outputId": "57cd1b9b-4f83-4484-f7e3-a5c0cece2e22",
        "colab": {
          "base_uri": "https://localhost:8080/",
          "height": 122
        }
      },
      "source": [
        "feature_importance = pd.DataFrame(reg.fit(X, client_merge['revenue']).feature_importances_)\n",
        "feature_importance = pd.concat([pd.DataFrame(X.columns),feature_importance],axis = 1)\n",
        "feature_importance.columns = ['feature','feature_importance']\n",
        "feature_importance.sort_values(by=['feature_importance'],ascending=False).to_csv('feature_importance.csv')"
      ],
      "execution_count": 0,
      "outputs": [
        {
          "output_type": "stream",
          "text": [
            "/usr/local/lib/python3.6/dist-packages/xgboost/core.py:587: FutureWarning: Series.base is deprecated and will be removed in a future version\n",
            "  if getattr(data, 'base', None) is not None and \\\n",
            "/usr/local/lib/python3.6/dist-packages/xgboost/core.py:588: FutureWarning: Series.base is deprecated and will be removed in a future version\n",
            "  data.base is not None and isinstance(data, np.ndarray) \\\n"
          ],
          "name": "stderr"
        },
        {
          "output_type": "stream",
          "text": [
            "[00:18:50] WARNING: /workspace/src/objective/regression_obj.cu:152: reg:linear is now deprecated in favor of reg:squarederror.\n"
          ],
          "name": "stdout"
        }
      ]
    },
    {
      "cell_type": "code",
      "metadata": {
        "id": "ScmiYqAELEus",
        "colab_type": "code",
        "colab": {}
      },
      "source": [
        "a = ['education_male_enrolled_public_school_pop_3',\n",
        "'families_with_medium_income',\n",
        "'non_families_aged_25_to_34_years',\n",
        "'personal_income_total',\n",
        "'non_family_income_total',\n",
        "'non_families_aged_under_25_years',\n",
        "'population_females_aged_55_to_64_years',\n",
        "'employment_unemployed_female_pop_16',\n",
        "'non_families_2_person',\n",
        "'population_females_aged_25_to_34_years']\n"
      ],
      "execution_count": 0,
      "outputs": []
    },
    {
      "cell_type": "code",
      "metadata": {
        "id": "pt7k45UvWZbF",
        "colab_type": "code",
        "outputId": "d8459ae2-e8a7-4fbb-b5ed-29d1a6b85e43",
        "colab": {
          "base_uri": "https://localhost:8080/",
          "height": 71
        }
      },
      "source": [
        "reg= xgb.XGBRegressor()\n",
        "reg.fit(X, client_merge['revenue'])\n",
        "booster = reg.get_booster()\n",
        "print(booster.get_fscore)"
      ],
      "execution_count": 0,
      "outputs": [
        {
          "output_type": "stream",
          "text": [
            "[20:43:47] WARNING: /workspace/src/objective/regression_obj.cu:152: reg:linear is now deprecated in favor of reg:squarederror.\n",
            "<bound method Booster.get_fscore of <xgboost.core.Booster object at 0x7f5a53952550>>\n"
          ],
          "name": "stdout"
        }
      ]
    },
    {
      "cell_type": "code",
      "metadata": {
        "id": "OJQkuO2NUmm4",
        "colab_type": "code",
        "outputId": "e9761ba3-7eaa-405a-d01c-09089bdeb77f",
        "colab": {
          "base_uri": "https://localhost:8080/",
          "height": 360
        }
      },
      "source": [
        "! pip install shap"
      ],
      "execution_count": 0,
      "outputs": [
        {
          "output_type": "stream",
          "text": [
            "Collecting shap\n",
            "\u001b[?25l  Downloading https://files.pythonhosted.org/packages/57/43/08f152a59a1d60f0328b476bdd58c791498989981ab9c6d595ec5448a86a/shap-0.32.1.tar.gz (259kB)\n",
            "\r\u001b[K     |█▎                              | 10kB 20.8MB/s eta 0:00:01\r\u001b[K     |██▌                             | 20kB 1.8MB/s eta 0:00:01\r\u001b[K     |███▉                            | 30kB 2.6MB/s eta 0:00:01\r\u001b[K     |█████                           | 40kB 1.7MB/s eta 0:00:01\r\u001b[K     |██████▎                         | 51kB 2.1MB/s eta 0:00:01\r\u001b[K     |███████▋                        | 61kB 2.5MB/s eta 0:00:01\r\u001b[K     |████████▉                       | 71kB 2.9MB/s eta 0:00:01\r\u001b[K     |██████████▏                     | 81kB 3.3MB/s eta 0:00:01\r\u001b[K     |███████████▍                    | 92kB 3.7MB/s eta 0:00:01\r\u001b[K     |████████████▋                   | 102kB 2.8MB/s eta 0:00:01\r\u001b[K     |██████████████                  | 112kB 2.8MB/s eta 0:00:01\r\u001b[K     |███████████████▏                | 122kB 2.8MB/s eta 0:00:01\r\u001b[K     |████████████████▍               | 133kB 2.8MB/s eta 0:00:01\r\u001b[K     |█████████████████▊              | 143kB 2.8MB/s eta 0:00:01\r\u001b[K     |███████████████████             | 153kB 2.8MB/s eta 0:00:01\r\u001b[K     |████████████████████▎           | 163kB 2.8MB/s eta 0:00:01\r\u001b[K     |█████████████████████▌          | 174kB 2.8MB/s eta 0:00:01\r\u001b[K     |██████████████████████▊         | 184kB 2.8MB/s eta 0:00:01\r\u001b[K     |████████████████████████        | 194kB 2.8MB/s eta 0:00:01\r\u001b[K     |█████████████████████████▎      | 204kB 2.8MB/s eta 0:00:01\r\u001b[K     |██████████████████████████▌     | 215kB 2.8MB/s eta 0:00:01\r\u001b[K     |███████████████████████████▉    | 225kB 2.8MB/s eta 0:00:01\r\u001b[K     |█████████████████████████████   | 235kB 2.8MB/s eta 0:00:01\r\u001b[K     |██████████████████████████████▍ | 245kB 2.8MB/s eta 0:00:01\r\u001b[K     |███████████████████████████████▋| 256kB 2.8MB/s eta 0:00:01\r\u001b[K     |████████████████████████████████| 266kB 2.8MB/s \n",
            "\u001b[?25hRequirement already satisfied: numpy in /usr/local/lib/python3.6/dist-packages (from shap) (1.17.4)\n",
            "Requirement already satisfied: scipy in /usr/local/lib/python3.6/dist-packages (from shap) (1.3.3)\n",
            "Requirement already satisfied: scikit-learn in /usr/local/lib/python3.6/dist-packages (from shap) (0.21.3)\n",
            "Requirement already satisfied: pandas in /usr/local/lib/python3.6/dist-packages (from shap) (0.25.3)\n",
            "Requirement already satisfied: tqdm>4.25.0 in /usr/local/lib/python3.6/dist-packages (from shap) (4.28.1)\n",
            "Requirement already satisfied: joblib>=0.11 in /usr/local/lib/python3.6/dist-packages (from scikit-learn->shap) (0.14.0)\n",
            "Requirement already satisfied: pytz>=2017.2 in /usr/local/lib/python3.6/dist-packages (from pandas->shap) (2018.9)\n",
            "Requirement already satisfied: python-dateutil>=2.6.1 in /usr/local/lib/python3.6/dist-packages (from pandas->shap) (2.6.1)\n",
            "Requirement already satisfied: six>=1.5 in /usr/local/lib/python3.6/dist-packages (from python-dateutil>=2.6.1->pandas->shap) (1.12.0)\n",
            "Building wheels for collected packages: shap\n",
            "  Building wheel for shap (setup.py) ... \u001b[?25l\u001b[?25hdone\n",
            "  Created wheel for shap: filename=shap-0.32.1-cp36-cp36m-linux_x86_64.whl size=376828 sha256=0fe4b76241e828a72d7df4cd6b15c9ad9560777e4305ac93f24e0d9ea1473d13\n",
            "  Stored in directory: /root/.cache/pip/wheels/8e/b2/50/8fadb5a59789cb5bdeb01b800223be540651ae92915172050b\n",
            "Successfully built shap\n",
            "Installing collected packages: shap\n",
            "Successfully installed shap-0.32.1\n"
          ],
          "name": "stdout"
        }
      ]
    },
    {
      "cell_type": "code",
      "metadata": {
        "id": "FmK8tyEVU204",
        "colab_type": "code",
        "outputId": "a8ad46a1-2879-48ff-ca0c-270fc0dd612f",
        "colab": {
          "base_uri": "https://localhost:8080/",
          "height": 439
        }
      },
      "source": [
        "X"
      ],
      "execution_count": 0,
      "outputs": [
        {
          "output_type": "execute_result",
          "data": {
            "text/html": [
              "<div>\n",
              "<style scoped>\n",
              "    .dataframe tbody tr th:only-of-type {\n",
              "        vertical-align: middle;\n",
              "    }\n",
              "\n",
              "    .dataframe tbody tr th {\n",
              "        vertical-align: top;\n",
              "    }\n",
              "\n",
              "    .dataframe thead th {\n",
              "        text-align: right;\n",
              "    }\n",
              "</style>\n",
              "<table border=\"1\" class=\"dataframe\">\n",
              "  <thead>\n",
              "    <tr style=\"text-align: right;\">\n",
              "      <th></th>\n",
              "      <th>families_more_than_3_person</th>\n",
              "      <th>population_1_1_2017</th>\n",
              "      <th>employment_utilities_pop_16</th>\n",
              "      <th>families_3_person</th>\n",
              "      <th>non_families_with_medium_income</th>\n",
              "      <th>population_non_institutional_group_quarters</th>\n",
              "      <th>families_2_person</th>\n",
              "      <th>non_families_with_high_income</th>\n",
              "      <th>families_aged_45_to_54_years</th>\n",
              "      <th>population_institutional_group_quarters</th>\n",
              "      <th>families_aged_55_to_64_years</th>\n",
              "      <th>families_with_high_income</th>\n",
              "      <th>population_females_aged_5_to_9_years</th>\n",
              "      <th>families_with_low_income</th>\n",
              "      <th>employment_wholesale_trade_pop_16</th>\n",
              "      <th>population_males_aged_25_to_34_years</th>\n",
              "      <th>non_families_3_person</th>\n",
              "      <th>population_females_never_married_pop_15</th>\n",
              "      <th>families_aged_25_to_34_years</th>\n",
              "      <th>population_females_aged_25_to_34_years</th>\n",
              "      <th>family_median_size</th>\n",
              "      <th>non_families_aged_under_25_years</th>\n",
              "      <th>population_females_aged_45_to_54_years</th>\n",
              "      <th>personal_income_total</th>\n",
              "      <th>non_family_population</th>\n",
              "      <th>population_males_never_married_pop_15</th>\n",
              "      <th>population_males_aged_75_to_84_years</th>\n",
              "      <th>family_income_total</th>\n",
              "      <th>family_income_average</th>\n",
              "      <th>non_families_aged_75_years_and_over</th>\n",
              "      <th>occupation_service_pop_16</th>\n",
              "      <th>employment_unpaid_family_workers_pop_16</th>\n",
              "      <th>non_families_aged_35_to_44_years</th>\n",
              "      <th>population_speaks_english_pop_5</th>\n",
              "      <th>non_families_2_person</th>\n",
              "      <th>population_males_aged_5_to_9_years</th>\n",
              "      <th>employment_unemployed_male_pop_16</th>\n",
              "      <th>population_speaks_spanish_pop_5</th>\n",
              "      <th>non_families_1_person</th>\n",
              "      <th>population_males_aged_65_to_74_years</th>\n",
              "      <th>...</th>\n",
              "      <th>education_not_enrolled_in_school_pop_3</th>\n",
              "      <th>population_males_aged_6_to_11_years</th>\n",
              "      <th>families_aged_65_to_74_years</th>\n",
              "      <th>other_families</th>\n",
              "      <th>families_aged_75_years_and_over</th>\n",
              "      <th>non_families_aged_55_to_64_years</th>\n",
              "      <th>non_families_more_than_3_person</th>\n",
              "      <th>families_married</th>\n",
              "      <th>family_income_high_income_average</th>\n",
              "      <th>population_urban</th>\n",
              "      <th>families_aged_under_25_years</th>\n",
              "      <th>non_family_income_total</th>\n",
              "      <th>education_male_enrolled_private_school_pop_3</th>\n",
              "      <th>occupation_sales_and_office_pop_16</th>\n",
              "      <th>population_growth_2017_2010</th>\n",
              "      <th>population_speaks_other_indo_european_languages_pop_5</th>\n",
              "      <th>non_families_aged_45_to_54_years</th>\n",
              "      <th>non_families_aged_25_to_34_years</th>\n",
              "      <th>population_females_aged_55_to_64_years</th>\n",
              "      <th>families_1_person</th>\n",
              "      <th>population_males_aged_85_years_and_older</th>\n",
              "      <th>population_speaks_other_language_pop_5</th>\n",
              "      <th>population_males_aged_55_to_64_years</th>\n",
              "      <th>population_females_aged_35_to_44_years</th>\n",
              "      <th>population_in_poverty_total</th>\n",
              "      <th>family_income_median</th>\n",
              "      <th>population_females_aged_75_to_84_years</th>\n",
              "      <th>education_male_enrolled_public_school_pop_3</th>\n",
              "      <th>population_females_married_pop_15</th>\n",
              "      <th>population_males_aged_35_to_44_years</th>\n",
              "      <th>population_females_aged_85_years_and_older</th>\n",
              "      <th>employment_work_at_home_empl_16</th>\n",
              "      <th>non_families_with_low_income</th>\n",
              "      <th>education_female_enrolled_private_school_pop_3</th>\n",
              "      <th>families_with_medium_income</th>\n",
              "      <th>population_females_aged_6_to_11_years</th>\n",
              "      <th>population_1_1_2022</th>\n",
              "      <th>employment_unemployed_female_pop_16</th>\n",
              "      <th>families_married_with_children_under_18</th>\n",
              "      <th>nw_count</th>\n",
              "    </tr>\n",
              "  </thead>\n",
              "  <tbody>\n",
              "    <tr>\n",
              "      <th>0</th>\n",
              "      <td>1.806400e+04</td>\n",
              "      <td>208946.0</td>\n",
              "      <td>1725.0</td>\n",
              "      <td>13329.0</td>\n",
              "      <td>3883.0</td>\n",
              "      <td>6295.0</td>\n",
              "      <td>26795.0</td>\n",
              "      <td>628.0</td>\n",
              "      <td>11946.0</td>\n",
              "      <td>1745.0</td>\n",
              "      <td>11908.0</td>\n",
              "      <td>6176.0</td>\n",
              "      <td>6298.0</td>\n",
              "      <td>2.379100e+04</td>\n",
              "      <td>741.0</td>\n",
              "      <td>10420.0</td>\n",
              "      <td>210.0</td>\n",
              "      <td>23901.0</td>\n",
              "      <td>6651.0</td>\n",
              "      <td>11333.0</td>\n",
              "      <td>254.16</td>\n",
              "      <td>1011.0</td>\n",
              "      <td>14220.0</td>\n",
              "      <td>5.072199e+09</td>\n",
              "      <td>30106.0</td>\n",
              "      <td>29122.0</td>\n",
              "      <td>4882.0</td>\n",
              "      <td>4.052853e+09</td>\n",
              "      <td>5536797.0</td>\n",
              "      <td>6182.0</td>\n",
              "      <td>13330.0</td>\n",
              "      <td>205.0</td>\n",
              "      <td>2317.0</td>\n",
              "      <td>197109.0</td>\n",
              "      <td>2337.0</td>\n",
              "      <td>6310.0</td>\n",
              "      <td>3824.0</td>\n",
              "      <td>2085.0</td>\n",
              "      <td>23867.0</td>\n",
              "      <td>11866.0</td>\n",
              "      <td>...</td>\n",
              "      <td>155618.0</td>\n",
              "      <td>7725.0</td>\n",
              "      <td>9665.0</td>\n",
              "      <td>19430.0</td>\n",
              "      <td>5323.0</td>\n",
              "      <td>6363.0</td>\n",
              "      <td>95.0</td>\n",
              "      <td>38758.0</td>\n",
              "      <td>19871413.0</td>\n",
              "      <td>50858.0</td>\n",
              "      <td>1886.0</td>\n",
              "      <td>8.770366e+08</td>\n",
              "      <td>4922.0</td>\n",
              "      <td>14619.0</td>\n",
              "      <td>-155.26</td>\n",
              "      <td>2259.0</td>\n",
              "      <td>4651.0</td>\n",
              "      <td>1457.0</td>\n",
              "      <td>17634.0</td>\n",
              "      <td>0.0</td>\n",
              "      <td>1440.0</td>\n",
              "      <td>805.0</td>\n",
              "      <td>16354.0</td>\n",
              "      <td>12235.0</td>\n",
              "      <td>52063.0</td>\n",
              "      <td>5245544.0</td>\n",
              "      <td>6628.0</td>\n",
              "      <td>20507.0</td>\n",
              "      <td>45562.0</td>\n",
              "      <td>12012.0</td>\n",
              "      <td>3109.0</td>\n",
              "      <td>1262.0</td>\n",
              "      <td>2.199800e+04</td>\n",
              "      <td>4239.0</td>\n",
              "      <td>2.822100e+04</td>\n",
              "      <td>7599.0</td>\n",
              "      <td>216134.0</td>\n",
              "      <td>3638.0</td>\n",
              "      <td>14724.0</td>\n",
              "      <td>0.0</td>\n",
              "    </tr>\n",
              "    <tr>\n",
              "      <th>1</th>\n",
              "      <td>1.043800e+04</td>\n",
              "      <td>161170.0</td>\n",
              "      <td>483.0</td>\n",
              "      <td>9926.0</td>\n",
              "      <td>2243.0</td>\n",
              "      <td>8464.0</td>\n",
              "      <td>21337.0</td>\n",
              "      <td>657.0</td>\n",
              "      <td>8678.0</td>\n",
              "      <td>2738.0</td>\n",
              "      <td>8222.0</td>\n",
              "      <td>4705.0</td>\n",
              "      <td>4315.0</td>\n",
              "      <td>1.840300e+04</td>\n",
              "      <td>1877.0</td>\n",
              "      <td>9076.0</td>\n",
              "      <td>308.0</td>\n",
              "      <td>14695.0</td>\n",
              "      <td>5940.0</td>\n",
              "      <td>8645.0</td>\n",
              "      <td>180.47</td>\n",
              "      <td>1174.0</td>\n",
              "      <td>10568.0</td>\n",
              "      <td>3.480195e+09</td>\n",
              "      <td>24541.0</td>\n",
              "      <td>19754.0</td>\n",
              "      <td>3344.0</td>\n",
              "      <td>2.780854e+09</td>\n",
              "      <td>3943462.0</td>\n",
              "      <td>4128.0</td>\n",
              "      <td>10022.0</td>\n",
              "      <td>131.0</td>\n",
              "      <td>1493.0</td>\n",
              "      <td>147450.0</td>\n",
              "      <td>2218.0</td>\n",
              "      <td>4718.0</td>\n",
              "      <td>2712.0</td>\n",
              "      <td>2056.0</td>\n",
              "      <td>16830.0</td>\n",
              "      <td>8751.0</td>\n",
              "      <td>...</td>\n",
              "      <td>112168.0</td>\n",
              "      <td>5687.0</td>\n",
              "      <td>5794.0</td>\n",
              "      <td>9731.0</td>\n",
              "      <td>3413.0</td>\n",
              "      <td>3688.0</td>\n",
              "      <td>152.0</td>\n",
              "      <td>31970.0</td>\n",
              "      <td>11848424.0</td>\n",
              "      <td>45729.0</td>\n",
              "      <td>1562.0</td>\n",
              "      <td>6.086543e+08</td>\n",
              "      <td>5231.0</td>\n",
              "      <td>15527.0</td>\n",
              "      <td>190.76</td>\n",
              "      <td>1365.0</td>\n",
              "      <td>4063.0</td>\n",
              "      <td>1349.0</td>\n",
              "      <td>10832.0</td>\n",
              "      <td>0.0</td>\n",
              "      <td>990.0</td>\n",
              "      <td>301.0</td>\n",
              "      <td>10668.0</td>\n",
              "      <td>8957.0</td>\n",
              "      <td>32355.0</td>\n",
              "      <td>3526176.0</td>\n",
              "      <td>4451.0</td>\n",
              "      <td>16386.0</td>\n",
              "      <td>38391.0</td>\n",
              "      <td>9036.0</td>\n",
              "      <td>2061.0</td>\n",
              "      <td>1764.0</td>\n",
              "      <td>1.660800e+04</td>\n",
              "      <td>4707.0</td>\n",
              "      <td>1.859300e+04</td>\n",
              "      <td>5230.0</td>\n",
              "      <td>165834.0</td>\n",
              "      <td>2675.0</td>\n",
              "      <td>11914.0</td>\n",
              "      <td>0.0</td>\n",
              "    </tr>\n",
              "    <tr>\n",
              "      <th>2</th>\n",
              "      <td>2.262800e+04</td>\n",
              "      <td>282350.0</td>\n",
              "      <td>813.0</td>\n",
              "      <td>20079.0</td>\n",
              "      <td>6346.0</td>\n",
              "      <td>198.0</td>\n",
              "      <td>33814.0</td>\n",
              "      <td>786.0</td>\n",
              "      <td>14877.0</td>\n",
              "      <td>17971.0</td>\n",
              "      <td>17294.0</td>\n",
              "      <td>9471.0</td>\n",
              "      <td>8375.0</td>\n",
              "      <td>4.000200e+04</td>\n",
              "      <td>4277.0</td>\n",
              "      <td>20066.0</td>\n",
              "      <td>361.0</td>\n",
              "      <td>37660.0</td>\n",
              "      <td>10616.0</td>\n",
              "      <td>16444.0</td>\n",
              "      <td>315.33</td>\n",
              "      <td>1503.0</td>\n",
              "      <td>20764.0</td>\n",
              "      <td>6.770958e+09</td>\n",
              "      <td>47405.0</td>\n",
              "      <td>45845.0</td>\n",
              "      <td>6802.0</td>\n",
              "      <td>5.208599e+09</td>\n",
              "      <td>6623294.0</td>\n",
              "      <td>7752.0</td>\n",
              "      <td>19639.0</td>\n",
              "      <td>301.0</td>\n",
              "      <td>3358.0</td>\n",
              "      <td>259210.0</td>\n",
              "      <td>4375.0</td>\n",
              "      <td>8254.0</td>\n",
              "      <td>4646.0</td>\n",
              "      <td>11316.0</td>\n",
              "      <td>35455.0</td>\n",
              "      <td>13416.0</td>\n",
              "      <td>...</td>\n",
              "      <td>212171.0</td>\n",
              "      <td>10049.0</td>\n",
              "      <td>10929.0</td>\n",
              "      <td>33738.0</td>\n",
              "      <td>7644.0</td>\n",
              "      <td>9995.0</td>\n",
              "      <td>166.0</td>\n",
              "      <td>42783.0</td>\n",
              "      <td>35788559.0</td>\n",
              "      <td>194292.0</td>\n",
              "      <td>2896.0</td>\n",
              "      <td>1.290322e+09</td>\n",
              "      <td>3108.0</td>\n",
              "      <td>25766.0</td>\n",
              "      <td>-384.42</td>\n",
              "      <td>1274.0</td>\n",
              "      <td>7829.0</td>\n",
              "      <td>3499.0</td>\n",
              "      <td>22643.0</td>\n",
              "      <td>0.0</td>\n",
              "      <td>2079.0</td>\n",
              "      <td>1035.0</td>\n",
              "      <td>21212.0</td>\n",
              "      <td>14737.0</td>\n",
              "      <td>75318.0</td>\n",
              "      <td>5031415.0</td>\n",
              "      <td>10074.0</td>\n",
              "      <td>24910.0</td>\n",
              "      <td>46764.0</td>\n",
              "      <td>17021.0</td>\n",
              "      <td>4517.0</td>\n",
              "      <td>2622.0</td>\n",
              "      <td>3.322500e+04</td>\n",
              "      <td>4864.0</td>\n",
              "      <td>2.704800e+04</td>\n",
              "      <td>9861.0</td>\n",
              "      <td>288480.0</td>\n",
              "      <td>4478.0</td>\n",
              "      <td>14138.0</td>\n",
              "      <td>1.0</td>\n",
              "    </tr>\n",
              "    <tr>\n",
              "      <th>3</th>\n",
              "      <td>1.430200e+04</td>\n",
              "      <td>172848.0</td>\n",
              "      <td>156.0</td>\n",
              "      <td>13605.0</td>\n",
              "      <td>3924.0</td>\n",
              "      <td>172.0</td>\n",
              "      <td>20413.0</td>\n",
              "      <td>80.0</td>\n",
              "      <td>11836.0</td>\n",
              "      <td>1665.0</td>\n",
              "      <td>8019.0</td>\n",
              "      <td>5937.0</td>\n",
              "      <td>5395.0</td>\n",
              "      <td>1.932500e+04</td>\n",
              "      <td>3302.0</td>\n",
              "      <td>9967.0</td>\n",
              "      <td>189.0</td>\n",
              "      <td>11224.0</td>\n",
              "      <td>6780.0</td>\n",
              "      <td>10597.0</td>\n",
              "      <td>169.50</td>\n",
              "      <td>1025.0</td>\n",
              "      <td>11367.0</td>\n",
              "      <td>4.153455e+09</td>\n",
              "      <td>23449.0</td>\n",
              "      <td>16711.0</td>\n",
              "      <td>3662.0</td>\n",
              "      <td>3.506585e+09</td>\n",
              "      <td>3648929.0</td>\n",
              "      <td>4201.0</td>\n",
              "      <td>9924.0</td>\n",
              "      <td>421.0</td>\n",
              "      <td>2042.0</td>\n",
              "      <td>153882.0</td>\n",
              "      <td>2503.0</td>\n",
              "      <td>5497.0</td>\n",
              "      <td>3022.0</td>\n",
              "      <td>2215.0</td>\n",
              "      <td>17516.0</td>\n",
              "      <td>9432.0</td>\n",
              "      <td>...</td>\n",
              "      <td>126500.0</td>\n",
              "      <td>6751.0</td>\n",
              "      <td>6355.0</td>\n",
              "      <td>9676.0</td>\n",
              "      <td>3614.0</td>\n",
              "      <td>4294.0</td>\n",
              "      <td>120.0</td>\n",
              "      <td>38644.0</td>\n",
              "      <td>16225340.0</td>\n",
              "      <td>41385.0</td>\n",
              "      <td>2292.0</td>\n",
              "      <td>5.996551e+08</td>\n",
              "      <td>1850.0</td>\n",
              "      <td>15331.0</td>\n",
              "      <td>203.10</td>\n",
              "      <td>5361.0</td>\n",
              "      <td>3829.0</td>\n",
              "      <td>1304.0</td>\n",
              "      <td>12272.0</td>\n",
              "      <td>0.0</td>\n",
              "      <td>842.0</td>\n",
              "      <td>0.0</td>\n",
              "      <td>11286.0</td>\n",
              "      <td>10824.0</td>\n",
              "      <td>30911.0</td>\n",
              "      <td>3176321.0</td>\n",
              "      <td>4386.0</td>\n",
              "      <td>18026.0</td>\n",
              "      <td>42021.0</td>\n",
              "      <td>11138.0</td>\n",
              "      <td>1815.0</td>\n",
              "      <td>2429.0</td>\n",
              "      <td>1.632400e+04</td>\n",
              "      <td>1296.0</td>\n",
              "      <td>2.305800e+04</td>\n",
              "      <td>6356.0</td>\n",
              "      <td>179276.0</td>\n",
              "      <td>2613.0</td>\n",
              "      <td>16656.0</td>\n",
              "      <td>0.0</td>\n",
              "    </tr>\n",
              "    <tr>\n",
              "      <th>5</th>\n",
              "      <td>8.265000e+03</td>\n",
              "      <td>94490.0</td>\n",
              "      <td>92.0</td>\n",
              "      <td>5991.0</td>\n",
              "      <td>2981.0</td>\n",
              "      <td>0.0</td>\n",
              "      <td>11475.0</td>\n",
              "      <td>475.0</td>\n",
              "      <td>5048.0</td>\n",
              "      <td>1145.0</td>\n",
              "      <td>5623.0</td>\n",
              "      <td>1856.0</td>\n",
              "      <td>2872.0</td>\n",
              "      <td>1.434100e+04</td>\n",
              "      <td>1066.0</td>\n",
              "      <td>5224.0</td>\n",
              "      <td>92.0</td>\n",
              "      <td>10704.0</td>\n",
              "      <td>2591.0</td>\n",
              "      <td>5317.0</td>\n",
              "      <td>142.15</td>\n",
              "      <td>304.0</td>\n",
              "      <td>7078.0</td>\n",
              "      <td>2.106920e+09</td>\n",
              "      <td>17158.0</td>\n",
              "      <td>12113.0</td>\n",
              "      <td>2364.0</td>\n",
              "      <td>1.515099e+09</td>\n",
              "      <td>2562078.0</td>\n",
              "      <td>3144.0</td>\n",
              "      <td>7441.0</td>\n",
              "      <td>0.0</td>\n",
              "      <td>1273.0</td>\n",
              "      <td>91502.0</td>\n",
              "      <td>990.0</td>\n",
              "      <td>2666.0</td>\n",
              "      <td>1826.0</td>\n",
              "      <td>391.0</td>\n",
              "      <td>13761.0</td>\n",
              "      <td>6126.0</td>\n",
              "      <td>...</td>\n",
              "      <td>74466.0</td>\n",
              "      <td>3303.0</td>\n",
              "      <td>4534.0</td>\n",
              "      <td>7297.0</td>\n",
              "      <td>2611.0</td>\n",
              "      <td>3357.0</td>\n",
              "      <td>40.0</td>\n",
              "      <td>18434.0</td>\n",
              "      <td>11446050.0</td>\n",
              "      <td>0.0</td>\n",
              "      <td>678.0</td>\n",
              "      <td>5.397409e+08</td>\n",
              "      <td>3478.0</td>\n",
              "      <td>6124.0</td>\n",
              "      <td>-219.64</td>\n",
              "      <td>364.0</td>\n",
              "      <td>2608.0</td>\n",
              "      <td>1148.0</td>\n",
              "      <td>7961.0</td>\n",
              "      <td>0.0</td>\n",
              "      <td>908.0</td>\n",
              "      <td>100.0</td>\n",
              "      <td>7319.0</td>\n",
              "      <td>5057.0</td>\n",
              "      <td>28966.0</td>\n",
              "      <td>2058485.0</td>\n",
              "      <td>3416.0</td>\n",
              "      <td>6427.0</td>\n",
              "      <td>19000.0</td>\n",
              "      <td>5116.0</td>\n",
              "      <td>1448.0</td>\n",
              "      <td>1386.0</td>\n",
              "      <td>1.142700e+04</td>\n",
              "      <td>4191.0</td>\n",
              "      <td>9.534000e+03</td>\n",
              "      <td>3301.0</td>\n",
              "      <td>97532.0</td>\n",
              "      <td>1526.0</td>\n",
              "      <td>7579.0</td>\n",
              "      <td>0.0</td>\n",
              "    </tr>\n",
              "    <tr>\n",
              "      <th>...</th>\n",
              "      <td>...</td>\n",
              "      <td>...</td>\n",
              "      <td>...</td>\n",
              "      <td>...</td>\n",
              "      <td>...</td>\n",
              "      <td>...</td>\n",
              "      <td>...</td>\n",
              "      <td>...</td>\n",
              "      <td>...</td>\n",
              "      <td>...</td>\n",
              "      <td>...</td>\n",
              "      <td>...</td>\n",
              "      <td>...</td>\n",
              "      <td>...</td>\n",
              "      <td>...</td>\n",
              "      <td>...</td>\n",
              "      <td>...</td>\n",
              "      <td>...</td>\n",
              "      <td>...</td>\n",
              "      <td>...</td>\n",
              "      <td>...</td>\n",
              "      <td>...</td>\n",
              "      <td>...</td>\n",
              "      <td>...</td>\n",
              "      <td>...</td>\n",
              "      <td>...</td>\n",
              "      <td>...</td>\n",
              "      <td>...</td>\n",
              "      <td>...</td>\n",
              "      <td>...</td>\n",
              "      <td>...</td>\n",
              "      <td>...</td>\n",
              "      <td>...</td>\n",
              "      <td>...</td>\n",
              "      <td>...</td>\n",
              "      <td>...</td>\n",
              "      <td>...</td>\n",
              "      <td>...</td>\n",
              "      <td>...</td>\n",
              "      <td>...</td>\n",
              "      <td>...</td>\n",
              "      <td>...</td>\n",
              "      <td>...</td>\n",
              "      <td>...</td>\n",
              "      <td>...</td>\n",
              "      <td>...</td>\n",
              "      <td>...</td>\n",
              "      <td>...</td>\n",
              "      <td>...</td>\n",
              "      <td>...</td>\n",
              "      <td>...</td>\n",
              "      <td>...</td>\n",
              "      <td>...</td>\n",
              "      <td>...</td>\n",
              "      <td>...</td>\n",
              "      <td>...</td>\n",
              "      <td>...</td>\n",
              "      <td>...</td>\n",
              "      <td>...</td>\n",
              "      <td>...</td>\n",
              "      <td>...</td>\n",
              "      <td>...</td>\n",
              "      <td>...</td>\n",
              "      <td>...</td>\n",
              "      <td>...</td>\n",
              "      <td>...</td>\n",
              "      <td>...</td>\n",
              "      <td>...</td>\n",
              "      <td>...</td>\n",
              "      <td>...</td>\n",
              "      <td>...</td>\n",
              "      <td>...</td>\n",
              "      <td>...</td>\n",
              "      <td>...</td>\n",
              "      <td>...</td>\n",
              "      <td>...</td>\n",
              "      <td>...</td>\n",
              "      <td>...</td>\n",
              "      <td>...</td>\n",
              "      <td>...</td>\n",
              "      <td>...</td>\n",
              "    </tr>\n",
              "    <tr>\n",
              "      <th>340</th>\n",
              "      <td>2.045800e+04</td>\n",
              "      <td>232074.0</td>\n",
              "      <td>704.0</td>\n",
              "      <td>16862.0</td>\n",
              "      <td>9201.0</td>\n",
              "      <td>1853.0</td>\n",
              "      <td>29612.0</td>\n",
              "      <td>583.0</td>\n",
              "      <td>15610.0</td>\n",
              "      <td>1387.0</td>\n",
              "      <td>16162.0</td>\n",
              "      <td>20045.0</td>\n",
              "      <td>7761.0</td>\n",
              "      <td>1.616700e+04</td>\n",
              "      <td>1099.0</td>\n",
              "      <td>12845.0</td>\n",
              "      <td>368.0</td>\n",
              "      <td>21591.0</td>\n",
              "      <td>8128.0</td>\n",
              "      <td>13220.0</td>\n",
              "      <td>185.13</td>\n",
              "      <td>842.0</td>\n",
              "      <td>18406.0</td>\n",
              "      <td>8.594868e+09</td>\n",
              "      <td>29998.0</td>\n",
              "      <td>21222.0</td>\n",
              "      <td>3790.0</td>\n",
              "      <td>7.367276e+09</td>\n",
              "      <td>6171158.0</td>\n",
              "      <td>4107.0</td>\n",
              "      <td>15221.0</td>\n",
              "      <td>143.0</td>\n",
              "      <td>2446.0</td>\n",
              "      <td>197677.0</td>\n",
              "      <td>3650.0</td>\n",
              "      <td>7656.0</td>\n",
              "      <td>3354.0</td>\n",
              "      <td>15047.0</td>\n",
              "      <td>20259.0</td>\n",
              "      <td>10440.0</td>\n",
              "      <td>...</td>\n",
              "      <td>163120.0</td>\n",
              "      <td>9169.0</td>\n",
              "      <td>8128.0</td>\n",
              "      <td>15965.0</td>\n",
              "      <td>4739.0</td>\n",
              "      <td>5984.0</td>\n",
              "      <td>478.0</td>\n",
              "      <td>50967.0</td>\n",
              "      <td>20237449.0</td>\n",
              "      <td>150457.0</td>\n",
              "      <td>1490.0</td>\n",
              "      <td>1.138395e+09</td>\n",
              "      <td>4131.0</td>\n",
              "      <td>25423.0</td>\n",
              "      <td>289.04</td>\n",
              "      <td>4172.0</td>\n",
              "      <td>5056.0</td>\n",
              "      <td>2507.0</td>\n",
              "      <td>17863.0</td>\n",
              "      <td>0.0</td>\n",
              "      <td>1329.0</td>\n",
              "      <td>165.0</td>\n",
              "      <td>17472.0</td>\n",
              "      <td>14904.0</td>\n",
              "      <td>29813.0</td>\n",
              "      <td>5094528.0</td>\n",
              "      <td>5318.0</td>\n",
              "      <td>24253.0</td>\n",
              "      <td>49734.0</td>\n",
              "      <td>14254.0</td>\n",
              "      <td>2251.0</td>\n",
              "      <td>4538.0</td>\n",
              "      <td>1.497100e+04</td>\n",
              "      <td>6074.0</td>\n",
              "      <td>3.072000e+04</td>\n",
              "      <td>9435.0</td>\n",
              "      <td>240544.0</td>\n",
              "      <td>2809.0</td>\n",
              "      <td>21628.0</td>\n",
              "      <td>0.0</td>\n",
              "    </tr>\n",
              "    <tr>\n",
              "      <th>341</th>\n",
              "      <td>1.626000e+04</td>\n",
              "      <td>177264.0</td>\n",
              "      <td>599.0</td>\n",
              "      <td>13000.0</td>\n",
              "      <td>4179.0</td>\n",
              "      <td>156.0</td>\n",
              "      <td>20878.0</td>\n",
              "      <td>454.0</td>\n",
              "      <td>10813.0</td>\n",
              "      <td>1527.0</td>\n",
              "      <td>10306.0</td>\n",
              "      <td>7133.0</td>\n",
              "      <td>5786.0</td>\n",
              "      <td>2.066200e+04</td>\n",
              "      <td>2448.0</td>\n",
              "      <td>9675.0</td>\n",
              "      <td>158.0</td>\n",
              "      <td>19227.0</td>\n",
              "      <td>7785.0</td>\n",
              "      <td>10840.0</td>\n",
              "      <td>203.99</td>\n",
              "      <td>829.0</td>\n",
              "      <td>12849.0</td>\n",
              "      <td>4.453999e+09</td>\n",
              "      <td>22159.0</td>\n",
              "      <td>20688.0</td>\n",
              "      <td>3242.0</td>\n",
              "      <td>3.674332e+09</td>\n",
              "      <td>4551236.0</td>\n",
              "      <td>3615.0</td>\n",
              "      <td>13181.0</td>\n",
              "      <td>127.0</td>\n",
              "      <td>1517.0</td>\n",
              "      <td>166665.0</td>\n",
              "      <td>2240.0</td>\n",
              "      <td>5734.0</td>\n",
              "      <td>2912.0</td>\n",
              "      <td>3679.0</td>\n",
              "      <td>16777.0</td>\n",
              "      <td>9018.0</td>\n",
              "      <td>...</td>\n",
              "      <td>127033.0</td>\n",
              "      <td>6960.0</td>\n",
              "      <td>6366.0</td>\n",
              "      <td>16686.0</td>\n",
              "      <td>4124.0</td>\n",
              "      <td>4684.0</td>\n",
              "      <td>76.0</td>\n",
              "      <td>33452.0</td>\n",
              "      <td>25545805.0</td>\n",
              "      <td>62912.0</td>\n",
              "      <td>1687.0</td>\n",
              "      <td>7.281617e+08</td>\n",
              "      <td>2615.0</td>\n",
              "      <td>17030.0</td>\n",
              "      <td>-248.66</td>\n",
              "      <td>672.0</td>\n",
              "      <td>3254.0</td>\n",
              "      <td>1574.0</td>\n",
              "      <td>13756.0</td>\n",
              "      <td>0.0</td>\n",
              "      <td>980.0</td>\n",
              "      <td>279.0</td>\n",
              "      <td>12499.0</td>\n",
              "      <td>11381.0</td>\n",
              "      <td>39270.0</td>\n",
              "      <td>3905994.0</td>\n",
              "      <td>4445.0</td>\n",
              "      <td>20004.0</td>\n",
              "      <td>40145.0</td>\n",
              "      <td>10110.0</td>\n",
              "      <td>2307.0</td>\n",
              "      <td>946.0</td>\n",
              "      <td>1.461800e+04</td>\n",
              "      <td>2818.0</td>\n",
              "      <td>2.234300e+04</td>\n",
              "      <td>7206.0</td>\n",
              "      <td>181464.0</td>\n",
              "      <td>3201.0</td>\n",
              "      <td>11927.0</td>\n",
              "      <td>0.0</td>\n",
              "    </tr>\n",
              "    <tr>\n",
              "      <th>342</th>\n",
              "      <td>2.168100e+04</td>\n",
              "      <td>249496.0</td>\n",
              "      <td>586.0</td>\n",
              "      <td>13361.0</td>\n",
              "      <td>10057.0</td>\n",
              "      <td>186.0</td>\n",
              "      <td>32373.0</td>\n",
              "      <td>950.0</td>\n",
              "      <td>13655.0</td>\n",
              "      <td>2609.0</td>\n",
              "      <td>13375.0</td>\n",
              "      <td>11552.0</td>\n",
              "      <td>8104.0</td>\n",
              "      <td>1.629000e+04</td>\n",
              "      <td>2727.0</td>\n",
              "      <td>15337.0</td>\n",
              "      <td>515.0</td>\n",
              "      <td>20360.0</td>\n",
              "      <td>10678.0</td>\n",
              "      <td>14748.0</td>\n",
              "      <td>370.16</td>\n",
              "      <td>1928.0</td>\n",
              "      <td>17281.0</td>\n",
              "      <td>7.663867e+09</td>\n",
              "      <td>45863.0</td>\n",
              "      <td>29203.0</td>\n",
              "      <td>5809.0</td>\n",
              "      <td>6.037322e+09</td>\n",
              "      <td>10893497.0</td>\n",
              "      <td>8585.0</td>\n",
              "      <td>22373.0</td>\n",
              "      <td>30.0</td>\n",
              "      <td>3782.0</td>\n",
              "      <td>231265.0</td>\n",
              "      <td>4366.0</td>\n",
              "      <td>8395.0</td>\n",
              "      <td>4962.0</td>\n",
              "      <td>5122.0</td>\n",
              "      <td>31465.0</td>\n",
              "      <td>12766.0</td>\n",
              "      <td>...</td>\n",
              "      <td>183062.0</td>\n",
              "      <td>10355.0</td>\n",
              "      <td>8022.0</td>\n",
              "      <td>16673.0</td>\n",
              "      <td>6521.0</td>\n",
              "      <td>7631.0</td>\n",
              "      <td>429.0</td>\n",
              "      <td>50742.0</td>\n",
              "      <td>41852266.0</td>\n",
              "      <td>114013.0</td>\n",
              "      <td>1760.0</td>\n",
              "      <td>1.609755e+09</td>\n",
              "      <td>4678.0</td>\n",
              "      <td>20172.0</td>\n",
              "      <td>-246.38</td>\n",
              "      <td>2207.0</td>\n",
              "      <td>5988.0</td>\n",
              "      <td>3369.0</td>\n",
              "      <td>17799.0</td>\n",
              "      <td>0.0</td>\n",
              "      <td>2465.0</td>\n",
              "      <td>0.0</td>\n",
              "      <td>17593.0</td>\n",
              "      <td>15182.0</td>\n",
              "      <td>27879.0</td>\n",
              "      <td>9831137.0</td>\n",
              "      <td>8435.0</td>\n",
              "      <td>27596.0</td>\n",
              "      <td>60419.0</td>\n",
              "      <td>15560.0</td>\n",
              "      <td>4540.0</td>\n",
              "      <td>2612.0</td>\n",
              "      <td>2.576800e+04</td>\n",
              "      <td>2391.0</td>\n",
              "      <td>3.957300e+04</td>\n",
              "      <td>9669.0</td>\n",
              "      <td>257300.0</td>\n",
              "      <td>4354.0</td>\n",
              "      <td>19056.0</td>\n",
              "      <td>1.0</td>\n",
              "    </tr>\n",
              "    <tr>\n",
              "      <th>343</th>\n",
              "      <td>2.545990e+11</td>\n",
              "      <td>186388.0</td>\n",
              "      <td>1077.0</td>\n",
              "      <td>15370.0</td>\n",
              "      <td>31555354.0</td>\n",
              "      <td>0.0</td>\n",
              "      <td>24438.0</td>\n",
              "      <td>594246.0</td>\n",
              "      <td>10334.0</td>\n",
              "      <td>502.0</td>\n",
              "      <td>14685.0</td>\n",
              "      <td>758233399.0</td>\n",
              "      <td>5517.0</td>\n",
              "      <td>8.386902e+12</td>\n",
              "      <td>917.0</td>\n",
              "      <td>11138.0</td>\n",
              "      <td>158.0</td>\n",
              "      <td>13658.0</td>\n",
              "      <td>7588.0</td>\n",
              "      <td>11173.0</td>\n",
              "      <td>456.08</td>\n",
              "      <td>684.0</td>\n",
              "      <td>14014.0</td>\n",
              "      <td>4.829713e+09</td>\n",
              "      <td>26999.0</td>\n",
              "      <td>21174.0</td>\n",
              "      <td>4296.0</td>\n",
              "      <td>4.109163e+09</td>\n",
              "      <td>9892549.0</td>\n",
              "      <td>5293.0</td>\n",
              "      <td>9367.0</td>\n",
              "      <td>0.0</td>\n",
              "      <td>2164.0</td>\n",
              "      <td>184887.0</td>\n",
              "      <td>2501.0</td>\n",
              "      <td>5475.0</td>\n",
              "      <td>3019.0</td>\n",
              "      <td>1254.0</td>\n",
              "      <td>21055.0</td>\n",
              "      <td>10712.0</td>\n",
              "      <td>...</td>\n",
              "      <td>149386.0</td>\n",
              "      <td>6923.0</td>\n",
              "      <td>7666.0</td>\n",
              "      <td>14121.0</td>\n",
              "      <td>4142.0</td>\n",
              "      <td>6227.0</td>\n",
              "      <td>27035.0</td>\n",
              "      <td>42582.0</td>\n",
              "      <td>22784358.0</td>\n",
              "      <td>22308.0</td>\n",
              "      <td>1863.0</td>\n",
              "      <td>7.289483e+08</td>\n",
              "      <td>672.0</td>\n",
              "      <td>11278.0</td>\n",
              "      <td>-1239.32</td>\n",
              "      <td>246.0</td>\n",
              "      <td>3800.0</td>\n",
              "      <td>1584.0</td>\n",
              "      <td>17031.0</td>\n",
              "      <td>0.0</td>\n",
              "      <td>944.0</td>\n",
              "      <td>422.0</td>\n",
              "      <td>17445.0</td>\n",
              "      <td>11699.0</td>\n",
              "      <td>40044.0</td>\n",
              "      <td>8754357.0</td>\n",
              "      <td>5956.0</td>\n",
              "      <td>19845.0</td>\n",
              "      <td>47622.0</td>\n",
              "      <td>12232.0</td>\n",
              "      <td>1899.0</td>\n",
              "      <td>1261.0</td>\n",
              "      <td>1.855208e+12</td>\n",
              "      <td>1660.0</td>\n",
              "      <td>2.499058e+10</td>\n",
              "      <td>6711.0</td>\n",
              "      <td>190448.0</td>\n",
              "      <td>2460.0</td>\n",
              "      <td>18644.0</td>\n",
              "      <td>0.0</td>\n",
              "    </tr>\n",
              "    <tr>\n",
              "      <th>344</th>\n",
              "      <td>2.088810e+05</td>\n",
              "      <td>2361190.0</td>\n",
              "      <td>19869.0</td>\n",
              "      <td>149635.0</td>\n",
              "      <td>84638.0</td>\n",
              "      <td>24851.0</td>\n",
              "      <td>252133.0</td>\n",
              "      <td>17357.0</td>\n",
              "      <td>145656.0</td>\n",
              "      <td>14941.0</td>\n",
              "      <td>118603.0</td>\n",
              "      <td>183204.0</td>\n",
              "      <td>76931.0</td>\n",
              "      <td>1.652250e+05</td>\n",
              "      <td>41619.0</td>\n",
              "      <td>139608.0</td>\n",
              "      <td>5342.0</td>\n",
              "      <td>249829.0</td>\n",
              "      <td>87224.0</td>\n",
              "      <td>151306.0</td>\n",
              "      <td>1231.70</td>\n",
              "      <td>21530.0</td>\n",
              "      <td>155564.0</td>\n",
              "      <td>8.011237e+10</td>\n",
              "      <td>303837.0</td>\n",
              "      <td>261236.0</td>\n",
              "      <td>32786.0</td>\n",
              "      <td>6.576548e+10</td>\n",
              "      <td>36788082.0</td>\n",
              "      <td>33893.0</td>\n",
              "      <td>156889.0</td>\n",
              "      <td>1695.0</td>\n",
              "      <td>32149.0</td>\n",
              "      <td>1969403.0</td>\n",
              "      <td>38176.0</td>\n",
              "      <td>79264.0</td>\n",
              "      <td>51860.0</td>\n",
              "      <td>81102.0</td>\n",
              "      <td>205477.0</td>\n",
              "      <td>91390.0</td>\n",
              "      <td>...</td>\n",
              "      <td>1571257.0</td>\n",
              "      <td>95421.0</td>\n",
              "      <td>69927.0</td>\n",
              "      <td>175465.0</td>\n",
              "      <td>37650.0</td>\n",
              "      <td>48769.0</td>\n",
              "      <td>3081.0</td>\n",
              "      <td>435184.0</td>\n",
              "      <td>108048647.0</td>\n",
              "      <td>1773544.0</td>\n",
              "      <td>15618.0</td>\n",
              "      <td>1.363351e+10</td>\n",
              "      <td>28982.0</td>\n",
              "      <td>259013.0</td>\n",
              "      <td>5589.50</td>\n",
              "      <td>30617.0</td>\n",
              "      <td>41025.0</td>\n",
              "      <td>39653.0</td>\n",
              "      <td>149436.0</td>\n",
              "      <td>0.0</td>\n",
              "      <td>10176.0</td>\n",
              "      <td>5258.0</td>\n",
              "      <td>138088.0</td>\n",
              "      <td>162491.0</td>\n",
              "      <td>295740.0</td>\n",
              "      <td>31705819.0</td>\n",
              "      <td>44590.0</td>\n",
              "      <td>256916.0</td>\n",
              "      <td>505928.0</td>\n",
              "      <td>151837.0</td>\n",
              "      <td>20914.0</td>\n",
              "      <td>41843.0</td>\n",
              "      <td>1.500810e+05</td>\n",
              "      <td>35150.0</td>\n",
              "      <td>2.622200e+05</td>\n",
              "      <td>91611.0</td>\n",
              "      <td>2453626.0</td>\n",
              "      <td>48227.0</td>\n",
              "      <td>201240.0</td>\n",
              "      <td>0.0</td>\n",
              "    </tr>\n",
              "  </tbody>\n",
              "</table>\n",
              "<p>314 rows × 91 columns</p>\n",
              "</div>"
            ],
            "text/plain": [
              "     families_more_than_3_person  ...  nw_count\n",
              "0                   1.806400e+04  ...       0.0\n",
              "1                   1.043800e+04  ...       0.0\n",
              "2                   2.262800e+04  ...       1.0\n",
              "3                   1.430200e+04  ...       0.0\n",
              "5                   8.265000e+03  ...       0.0\n",
              "..                           ...  ...       ...\n",
              "340                 2.045800e+04  ...       0.0\n",
              "341                 1.626000e+04  ...       0.0\n",
              "342                 2.168100e+04  ...       1.0\n",
              "343                 2.545990e+11  ...       0.0\n",
              "344                 2.088810e+05  ...       0.0\n",
              "\n",
              "[314 rows x 91 columns]"
            ]
          },
          "metadata": {
            "tags": []
          },
          "execution_count": 102
        }
      ]
    },
    {
      "cell_type": "code",
      "metadata": {
        "id": "51kYriNNVSUq",
        "colab_type": "code",
        "colab": {}
      },
      "source": [
        ""
      ],
      "execution_count": 0,
      "outputs": []
    },
    {
      "cell_type": "code",
      "metadata": {
        "id": "dDkic4mlUZlH",
        "colab_type": "code",
        "outputId": "f2787f99-158d-4aac-ebb4-758476795078",
        "colab": {
          "base_uri": "https://localhost:8080/",
          "height": 395
        }
      },
      "source": [
        "import shap\n",
        "import xgboost as xgb\n",
        "model = reg\n",
        "explainer = shap.TreeExplainer(model)\n",
        "shap_values = explainer.shap_values(X.as_matrix())\n",
        "#shap.initjs()\n",
        "#shap.force_plot(explainer.expected_value, shap_values[0,:], train[col_selected].iloc[0,:])"
      ],
      "execution_count": 0,
      "outputs": [
        {
          "output_type": "error",
          "ename": "AssertionError",
          "evalue": "ignored",
          "traceback": [
            "\u001b[0;31m---------------------------------------------------------------------------\u001b[0m",
            "\u001b[0;31mAssertionError\u001b[0m                            Traceback (most recent call last)",
            "\u001b[0;32m<ipython-input-108-64beb5c2252e>\u001b[0m in \u001b[0;36m<module>\u001b[0;34m()\u001b[0m\n\u001b[1;32m      3\u001b[0m \u001b[0mmodel\u001b[0m \u001b[0;34m=\u001b[0m \u001b[0mreg\u001b[0m\u001b[0;34m\u001b[0m\u001b[0;34m\u001b[0m\u001b[0m\n\u001b[1;32m      4\u001b[0m \u001b[0mexplainer\u001b[0m \u001b[0;34m=\u001b[0m \u001b[0mshap\u001b[0m\u001b[0;34m.\u001b[0m\u001b[0mTreeExplainer\u001b[0m\u001b[0;34m(\u001b[0m\u001b[0mmodel\u001b[0m\u001b[0;34m)\u001b[0m\u001b[0;34m\u001b[0m\u001b[0;34m\u001b[0m\u001b[0m\n\u001b[0;32m----> 5\u001b[0;31m \u001b[0mshap_values\u001b[0m \u001b[0;34m=\u001b[0m \u001b[0mexplainer\u001b[0m\u001b[0;34m.\u001b[0m\u001b[0mshap_values\u001b[0m\u001b[0;34m(\u001b[0m\u001b[0mX\u001b[0m\u001b[0;34m.\u001b[0m\u001b[0mas_matrix\u001b[0m\u001b[0;34m(\u001b[0m\u001b[0;34m)\u001b[0m\u001b[0;34m)\u001b[0m\u001b[0;34m\u001b[0m\u001b[0;34m\u001b[0m\u001b[0m\n\u001b[0m\u001b[1;32m      6\u001b[0m \u001b[0;31m#shap.initjs()\u001b[0m\u001b[0;34m\u001b[0m\u001b[0;34m\u001b[0m\u001b[0;34m\u001b[0m\u001b[0m\n\u001b[1;32m      7\u001b[0m \u001b[0;31m#shap.force_plot(explainer.expected_value, shap_values[0,:], train[col_selected].iloc[0,:])\u001b[0m\u001b[0;34m\u001b[0m\u001b[0;34m\u001b[0m\u001b[0;34m\u001b[0m\u001b[0m\n",
            "\u001b[0;32m/usr/local/lib/python3.6/dist-packages/shap/explainers/tree.py\u001b[0m in \u001b[0;36mshap_values\u001b[0;34m(self, X, y, tree_limit, approximate, check_additivity)\u001b[0m\n\u001b[1;32m    215\u001b[0m \u001b[0;34m\u001b[0m\u001b[0m\n\u001b[1;32m    216\u001b[0m                 \u001b[0;32mif\u001b[0m \u001b[0mcheck_additivity\u001b[0m \u001b[0;32mand\u001b[0m \u001b[0mmodel_output_vals\u001b[0m \u001b[0;32mis\u001b[0m \u001b[0;32mnot\u001b[0m \u001b[0;32mNone\u001b[0m\u001b[0;34m:\u001b[0m\u001b[0;34m\u001b[0m\u001b[0;34m\u001b[0m\u001b[0m\n\u001b[0;32m--> 217\u001b[0;31m                     \u001b[0mself\u001b[0m\u001b[0;34m.\u001b[0m\u001b[0massert_additivity\u001b[0m\u001b[0;34m(\u001b[0m\u001b[0mout\u001b[0m\u001b[0;34m,\u001b[0m \u001b[0mmodel_output_vals\u001b[0m\u001b[0;34m)\u001b[0m\u001b[0;34m\u001b[0m\u001b[0;34m\u001b[0m\u001b[0m\n\u001b[0m\u001b[1;32m    218\u001b[0m \u001b[0;34m\u001b[0m\u001b[0m\n\u001b[1;32m    219\u001b[0m                 \u001b[0;32mreturn\u001b[0m \u001b[0mout\u001b[0m\u001b[0;34m\u001b[0m\u001b[0;34m\u001b[0m\u001b[0m\n",
            "\u001b[0;32m/usr/local/lib/python3.6/dist-packages/shap/explainers/tree.py\u001b[0m in \u001b[0;36massert_additivity\u001b[0;34m(self, phi, model_output)\u001b[0m\n\u001b[1;32m    392\u001b[0m                 \u001b[0;32massert\u001b[0m \u001b[0mnp\u001b[0m\u001b[0;34m.\u001b[0m\u001b[0mmax\u001b[0m\u001b[0;34m(\u001b[0m\u001b[0mnp\u001b[0m\u001b[0;34m.\u001b[0m\u001b[0mabs\u001b[0m\u001b[0;34m(\u001b[0m\u001b[0mself\u001b[0m\u001b[0;34m.\u001b[0m\u001b[0mexpected_value\u001b[0m\u001b[0;34m[\u001b[0m\u001b[0mi\u001b[0m\u001b[0;34m]\u001b[0m \u001b[0;34m+\u001b[0m \u001b[0mphi\u001b[0m\u001b[0;34m[\u001b[0m\u001b[0mi\u001b[0m\u001b[0;34m]\u001b[0m\u001b[0;34m.\u001b[0m\u001b[0msum\u001b[0m\u001b[0;34m(\u001b[0m\u001b[0;34m-\u001b[0m\u001b[0;36m1\u001b[0m\u001b[0;34m)\u001b[0m \u001b[0;34m-\u001b[0m \u001b[0mmodel_output\u001b[0m\u001b[0;34m[\u001b[0m\u001b[0;34m:\u001b[0m\u001b[0;34m,\u001b[0m\u001b[0mi\u001b[0m\u001b[0;34m]\u001b[0m\u001b[0;34m)\u001b[0m\u001b[0;34m)\u001b[0m \u001b[0;34m<\u001b[0m \u001b[0;36m1e-3\u001b[0m\u001b[0;34m,\u001b[0m \u001b[0merr_msg\u001b[0m\u001b[0;34m\u001b[0m\u001b[0;34m\u001b[0m\u001b[0m\n\u001b[1;32m    393\u001b[0m         \u001b[0;32melse\u001b[0m\u001b[0;34m:\u001b[0m\u001b[0;34m\u001b[0m\u001b[0;34m\u001b[0m\u001b[0m\n\u001b[0;32m--> 394\u001b[0;31m             \u001b[0;32massert\u001b[0m \u001b[0mnp\u001b[0m\u001b[0;34m.\u001b[0m\u001b[0mmax\u001b[0m\u001b[0;34m(\u001b[0m\u001b[0mnp\u001b[0m\u001b[0;34m.\u001b[0m\u001b[0mabs\u001b[0m\u001b[0;34m(\u001b[0m\u001b[0mself\u001b[0m\u001b[0;34m.\u001b[0m\u001b[0mexpected_value\u001b[0m \u001b[0;34m+\u001b[0m \u001b[0mphi\u001b[0m\u001b[0;34m.\u001b[0m\u001b[0msum\u001b[0m\u001b[0;34m(\u001b[0m\u001b[0;34m-\u001b[0m\u001b[0;36m1\u001b[0m\u001b[0;34m)\u001b[0m \u001b[0;34m-\u001b[0m \u001b[0mmodel_output\u001b[0m\u001b[0;34m)\u001b[0m\u001b[0;34m)\u001b[0m \u001b[0;34m<\u001b[0m \u001b[0;36m1e-3\u001b[0m\u001b[0;34m,\u001b[0m \u001b[0merr_msg\u001b[0m\u001b[0;34m\u001b[0m\u001b[0;34m\u001b[0m\u001b[0m\n\u001b[0m\u001b[1;32m    395\u001b[0m \u001b[0;34m\u001b[0m\u001b[0m\n\u001b[1;32m    396\u001b[0m \u001b[0;34m\u001b[0m\u001b[0m\n",
            "\u001b[0;31mAssertionError\u001b[0m: Additivity check failed in TreeExplainer! Please report this on GitHub. Consider retrying with the feature_dependence='independent' option."
          ]
        }
      ]
    },
    {
      "cell_type": "markdown",
      "metadata": {
        "id": "mBfF5JRjLqf-",
        "colab_type": "text"
      },
      "source": [
        "## Precit on new counties"
      ]
    },
    {
      "cell_type": "code",
      "metadata": {
        "id": "weGQmlHF3BFl",
        "colab_type": "code",
        "colab": {}
      },
      "source": [
        "SC_zone = pd.read_csv('/content/drive/My Drive/NYL_data/south_central_zone_sm.csv')\n",
        "new_couties = list(set([str(x).zfill(5) for x in SC_zone.FIPS.astype(int)]) - set(mature_market.Matured_counties.astype(str)))"
      ],
      "execution_count": 0,
      "outputs": []
    },
    {
      "cell_type": "code",
      "metadata": {
        "id": "adI4z7iJRXF8",
        "colab_type": "code",
        "colab": {}
      },
      "source": [
        "predict_data = pd.read_csv('/content/drive/My Drive/NYL_data/masterdemographics.csv')\n",
        "del_cols = [x.replace('masterdemographics.','') for x in predict_data.columns]\n",
        "predict_data.columns = del_cols\n",
        "predict_data['easi_census_tract'] = predict_data['easi_census_tract'].astype(int)\n",
        "predict_data['easi_census_tract'] = predict_data['easi_census_tract']/100\n",
        "predict_data['easi_census_tract'] = predict_data['easi_census_tract'].astype(int)\n",
        "predict_data['easi_census_tract'] = predict_data['easi_census_tract'].astype(str)\n",
        "predict_data['easi_census_tract'] = [x.zfill(11) for x in predict_data['easi_census_tract']]\n",
        "#predict_data['easi_census_tract'] = predict_data['easi_census_tract'].astype(int)"
      ],
      "execution_count": 0,
      "outputs": []
    },
    {
      "cell_type": "code",
      "metadata": {
        "id": "9O_78szb4lPZ",
        "colab_type": "code",
        "colab": {}
      },
      "source": [
        "predict_data['county'] =[str(x)[:5] for x in predict_data['easi_census_tract']]"
      ],
      "execution_count": 0,
      "outputs": []
    },
    {
      "cell_type": "code",
      "metadata": {
        "id": "WLggKo4Q5Vdl",
        "colab_type": "code",
        "colab": {}
      },
      "source": [
        "#predict_data['county'] = predict_data['county'].astype(int)"
      ],
      "execution_count": 0,
      "outputs": []
    },
    {
      "cell_type": "code",
      "metadata": {
        "id": "XVPju8vB5JYA",
        "colab_type": "code",
        "colab": {}
      },
      "source": [
        "predict_merge = predict_data.loc[[x in new_couties for x in predict_data.county]]"
      ],
      "execution_count": 0,
      "outputs": []
    },
    {
      "cell_type": "code",
      "metadata": {
        "id": "n_Fkbnk8q99c",
        "colab_type": "code",
        "outputId": "b922f916-e59c-4cd1-cafb-d444a5a3285c",
        "colab": {
          "base_uri": "https://localhost:8080/",
          "height": 51
        }
      },
      "source": [
        "np.unique([x[:2] for x in new_couties])"
      ],
      "execution_count": 0,
      "outputs": [
        {
          "output_type": "execute_result",
          "data": {
            "text/plain": [
              "array(['01', '05', '12', '13', '17', '18', '21', '24', '26', '28', '37',\n",
              "       '39', '45', '47', '51', '54'], dtype='<U2')"
            ]
          },
          "metadata": {
            "tags": []
          },
          "execution_count": 269
        }
      ]
    },
    {
      "cell_type": "code",
      "metadata": {
        "id": "RnR-_BoKWztO",
        "colab_type": "code",
        "colab": {}
      },
      "source": [
        "predict_merge = predict_merge.drop('Unnamed: 0',axis = 1)\n",
        "predict_merge = predict_merge.drop('census_tract',axis = 1)\n",
        "predict_merge = predict_merge.drop('county',axis = 1)\n",
        "predict_merge = predict_merge.groupby('easi_census_tract',as_index = False).sum()\n",
        "#predict_merge  = pd.merge(predict_merge,predict_northwestern,left_on = 'easi_census_tract',right_on = 'tract')"
      ],
      "execution_count": 0,
      "outputs": []
    },
    {
      "cell_type": "code",
      "metadata": {
        "id": "p7DrMHYhqJg3",
        "colab_type": "code",
        "colab": {}
      },
      "source": [
        "north_western['nw_geoid'] = north_western['nw_geoid'] .astype(str)"
      ],
      "execution_count": 0,
      "outputs": []
    },
    {
      "cell_type": "code",
      "metadata": {
        "id": "kACJpzdgWaBX",
        "colab_type": "code",
        "colab": {}
      },
      "source": [
        "predict_merge = pd.merge(predict_merge,north_western,left_on = 'easi_census_tract',right_on = 'nw_geoid',how = 'left')"
      ],
      "execution_count": 0,
      "outputs": []
    },
    {
      "cell_type": "code",
      "metadata": {
        "id": "_bVwYr39WlI3",
        "colab_type": "code",
        "colab": {}
      },
      "source": [
        "predict_merge['nw_count'] = predict_merge['nw_count'].fillna(0)"
      ],
      "execution_count": 0,
      "outputs": []
    },
    {
      "cell_type": "code",
      "metadata": {
        "id": "GNaRj-TRsuj7",
        "colab_type": "code",
        "colab": {}
      },
      "source": [
        "predict_merge.to_csv('test_data.csv')"
      ],
      "execution_count": 0,
      "outputs": []
    },
    {
      "cell_type": "code",
      "metadata": {
        "id": "rVXbe9gab2zp",
        "colab_type": "code",
        "colab": {}
      },
      "source": [
        "feature = [x.replace('masterdemographics.','') for x in feature] \n",
        "test_data = predict_merge[feature]"
      ],
      "execution_count": 0,
      "outputs": []
    },
    {
      "cell_type": "code",
      "metadata": {
        "id": "HLz9C-fNYfTJ",
        "colab_type": "code",
        "colab": {}
      },
      "source": [
        "preds = reg.predict(test_data)\n",
        "prediction_new_county = pd.concat([pd.DataFrame(predict_merge.easi_census_tract),pd.DataFrame(preds)],axis = 1)\n",
        "prediction_new_county.columns = ['cencus_tract','predicted_sales']\n",
        "prediction_new_county = prediction_new_county.sort_values('predicted_sales',ascending = False)\n",
        "prediction_new_county['county'] = [str(x)[:5] for x in prediction_new_county['cencus_tract']]"
      ],
      "execution_count": 0,
      "outputs": []
    },
    {
      "cell_type": "code",
      "metadata": {
        "id": "yYYquTs3-PtM",
        "colab_type": "code",
        "colab": {}
      },
      "source": [
        "prediction_new_county.to_csv('predicted revenue')"
      ],
      "execution_count": 0,
      "outputs": []
    },
    {
      "cell_type": "code",
      "metadata": {
        "id": "XirGJGxq3Y9_",
        "colab_type": "code",
        "outputId": "5c37fbef-99ef-4728-9147-1da1e4bc0b2e",
        "colab": {
          "base_uri": "https://localhost:8080/",
          "height": 34
        }
      },
      "source": [
        "prediction_new_county.shape"
      ],
      "execution_count": 0,
      "outputs": [
        {
          "output_type": "execute_result",
          "data": {
            "text/plain": [
              "(14103, 3)"
            ]
          },
          "metadata": {
            "tags": []
          },
          "execution_count": 357
        }
      ]
    },
    {
      "cell_type": "code",
      "metadata": {
        "id": "dcVIavhC1IzB",
        "colab_type": "code",
        "outputId": "683ae7fb-606e-4c61-d2bd-3dba437bf579",
        "colab": {
          "base_uri": "https://localhost:8080/",
          "height": 51
        }
      },
      "source": [
        "np.unique([str(x)[:2] for x in prediction_new_county.county])"
      ],
      "execution_count": 0,
      "outputs": [
        {
          "output_type": "execute_result",
          "data": {
            "text/plain": [
              "array(['01', '05', '12', '13', '17', '18', '21', '24', '26', '28', '37',\n",
              "       '39', '45', '47', '51', '54'], dtype='<U2')"
            ]
          },
          "metadata": {
            "tags": []
          },
          "execution_count": 290
        }
      ]
    },
    {
      "cell_type": "markdown",
      "metadata": {
        "id": "4SBUjyMiJs1H",
        "colab_type": "text"
      },
      "source": [
        "## Plot feature importance "
      ]
    },
    {
      "cell_type": "code",
      "metadata": {
        "id": "jPvIh9WcJwHf",
        "colab_type": "code",
        "outputId": "0f927fe3-c7e6-40eb-ec30-2c21dd176c24",
        "colab": {
          "base_uri": "https://localhost:8080/",
          "height": 281
        }
      },
      "source": [
        "client_feature_importance = pd.read_csv('/content/drive/My Drive/NYL_data/client_feature_importance.csv').head(10)\n",
        "client_feature_importance['feature'] = [x.replace('population_','') for x in list(client_feature_importance['feature'])]\n",
        "client_feature_importance['value'] = [1,0,1,1,0,0,1,1,0,0]\n",
        "client_feature_importance['positive feature importance'] = client_feature_importance['feature_importance']\n",
        "ax = client_feature_importance[:10].plot.barh(x='feature', y='positive feature importance', rot=0,title = 'feature importance for client model',color=client_feature_importance.value.map({1: 'blue', 0: 'r'}))\n",
        "fig = ax.get_figure()\n",
        "fig.savefig('revenue_model_feature',dpi=30)"
      ],
      "execution_count": 0,
      "outputs": [
        {
          "output_type": "display_data",
          "data": {
            "image/png": "[encoded data removed]",
            "text/plain": [
              "<Figure size 432x288 with 1 Axes>"
            ]
          },
          "metadata": {
            "tags": []
          }
        }
      ]
    },
    {
      "cell_type": "code",
      "metadata": {
        "id": "sz8RGm_gVGTl",
        "colab_type": "code",
        "outputId": "f0532ef1-4f43-4484-e82d-05832f8a0e25",
        "colab": {
          "base_uri": "https://localhost:8080/",
          "height": 298
        }
      },
      "source": [
        "agent_feature_importance = pd.read_csv('/content/drive/My Drive/NYL_data/agent_feature_importance.csv').head(10)\n",
        "agent_feature_importance['feature'] = [x.replace('population_','') for x in list(agent_feature_importance['feature'])]\n",
        "agent_feature_importance['value'] = [1,1,0,1,1,0,0,1,1,1]\n",
        "agent_feature_importance['positive feature importance'] = agent_feature_importance['feature_importance']\n",
        "fig = ax.get_figure()\n",
        "agent_feature_importance[:10].plot.barh(x='feature', y='positive feature importance', rot=0,title = 'feature importance for agent model',color=agent_feature_importance.value.map({1: 'b', 0: 'r'}))"
      ],
      "execution_count": 0,
      "outputs": [
        {
          "output_type": "execute_result",
          "data": {
            "text/plain": [
              "<matplotlib.axes._subplots.AxesSubplot at 0x7f53c19b6588>"
            ]
          },
          "metadata": {
            "tags": []
          },
          "execution_count": 97
        },
        {
          "output_type": "display_data",
          "data": {
            "image/png": "[encoded data removed]",
            "text/plain": [
              "<Figure size 432x288 with 1 Axes>"
            ]
          },
          "metadata": {
            "tags": []
          }
        }
      ]
    },
    {
      "cell_type": "code",
      "metadata": {
        "id": "NzyECrkbU7Vj",
        "colab_type": "code",
        "colab": {}
      },
      "source": [
        "client_feature_importance = pd.read_csv('/content/drive/My Drive/NYL_data/feature_importance_client.csv')\n",
        "client_feature_importance['feature'] = [x.replace('population','') for x in list(client_feature_importance['feature'])]\n",
        "client_feature_importance[:10].plot.barh(x='feature', y='feature_importance', rot=0,title = 'feature importance for revenue prediction')"
      ],
      "execution_count": 0,
      "outputs": []
    },
    {
      "cell_type": "markdown",
      "metadata": {
        "id": "r9bYfrQJ0aY5",
        "colab_type": "text"
      },
      "source": [
        "# Similarity method"
      ]
    },
    {
      "cell_type": "code",
      "metadata": {
        "id": "VeEDLcpeIFc_",
        "colab_type": "code",
        "outputId": "b7fbf8f7-1731-449b-fda7-87296137df53",
        "colab": {
          "base_uri": "https://localhost:8080/",
          "height": 34
        }
      },
      "source": [
        "matured_counties.shape"
      ],
      "execution_count": 0,
      "outputs": [
        {
          "output_type": "execute_result",
          "data": {
            "text/plain": [
              "(431, 1)"
            ]
          },
          "metadata": {
            "tags": []
          },
          "execution_count": 25
        }
      ]
    },
    {
      "cell_type": "code",
      "metadata": {
        "id": "oLMYUoTy0cZ-",
        "colab_type": "code",
        "colab": {}
      },
      "source": [
        "agents_census_tract = pd.read_csv('/content/drive/My Drive/NYL_data/agent_result.csv')\n",
        "clients_census_tract = pd.read_csv('/content/drive/My Drive/NYL_data/predicted revenue',index_col = 0)\n",
        "pop_df = pd.read_csv('/content/drive/My Drive/NYL_data/masterdemographics.csv',usecols=['masterdemographics.easi_census_tract','masterdemographics.population_1_1_2022'])\n",
        "matured_counties = pd.read_csv('/content/drive/My Drive/NYL_data/matured_counties_scz.csv',index_col = 0)\n",
        "clients_df = pd.read_csv('/content/drive/My Drive/NYL_data/nyu_capstone_client.csv',usecols = ['County_sales','life_sales_low_premium','life_sales_medium_premium','life_sales_high_premium','annuities'])\n",
        "agents_df = pd.read_csv('/content/drive/My Drive/NYL_data/nyu_capstone_agent.csv')\n",
        "pop_county = pd.read_csv('/content/drive/My Drive/NYL_data/masterdemographics_county.csv',usecols=['masterdemographics.county_fips_code','masterdemographics.population_1_1_2017'])"
      ],
      "execution_count": 0,
      "outputs": []
    },
    {
      "cell_type": "code",
      "metadata": {
        "id": "1GUqhqojc4VX",
        "colab_type": "code",
        "colab": {}
      },
      "source": [
        "pop_df['masterdemographics.easi_census_tract'] = pop_df['masterdemographics.easi_census_tract'].astype(int)\n",
        "pop_df['masterdemographics.easi_census_tract'] = pop_df['masterdemographics.easi_census_tract']/100\n",
        "pop_df['masterdemographics.easi_census_tract'] = pop_df['masterdemographics.easi_census_tract'].astype(int)\n",
        "pop_df['masterdemographics.easi_census_tract'] = pop_df['masterdemographics.easi_census_tract'].astype(str)\n",
        "pop_df['masterdemographics.easi_census_tract'] = [x.zfill(11) for x in pop_df['masterdemographics.easi_census_tract']]\n",
        "# pop_df['masterdemographics.easi_census_tract'] = pop_df['masterdemographics.easi_census_tract'].astype(int)"
      ],
      "execution_count": 0,
      "outputs": []
    },
    {
      "cell_type": "code",
      "metadata": {
        "id": "V845vdOSdgZQ",
        "colab_type": "code",
        "colab": {}
      },
      "source": [
        "pop_census_tract = pop_df.groupby(by = 'masterdemographics.easi_census_tract').sum()"
      ],
      "execution_count": 0,
      "outputs": []
    },
    {
      "cell_type": "code",
      "metadata": {
        "id": "QG0xzH6fB1w3",
        "colab_type": "code",
        "colab": {}
      },
      "source": [
        "agents_census_tract['easi_census_tract'] = [x.zfill(11) for x in agents_census_tract['easi_census_tract'].astype(str)]"
      ],
      "execution_count": 0,
      "outputs": []
    },
    {
      "cell_type": "code",
      "metadata": {
        "id": "AW-Ov6OHCEUM",
        "colab_type": "code",
        "colab": {}
      },
      "source": [
        "clients_census_tract['cencus_tract'] = [x.zfill(11) for x in clients_census_tract['cencus_tract'].astype(str)]"
      ],
      "execution_count": 0,
      "outputs": []
    },
    {
      "cell_type": "code",
      "metadata": {
        "id": "YoKGZLRfdieR",
        "colab_type": "code",
        "colab": {}
      },
      "source": [
        "df = pd.merge(agents_census_tract,clients_census_tract, how = 'left', left_on='easi_census_tract',right_on = 'cencus_tract')"
      ],
      "execution_count": 0,
      "outputs": []
    },
    {
      "cell_type": "code",
      "metadata": {
        "id": "CbhArZ0ECPr4",
        "colab_type": "code",
        "outputId": "b428376b-75da-435f-e52d-cb91c0c820b9",
        "colab": {
          "base_uri": "https://localhost:8080/",
          "height": 34
        }
      },
      "source": [
        "df.shape"
      ],
      "execution_count": 0,
      "outputs": [
        {
          "output_type": "execute_result",
          "data": {
            "text/plain": [
              "(14103, 5)"
            ]
          },
          "metadata": {
            "tags": []
          },
          "execution_count": 37
        }
      ]
    },
    {
      "cell_type": "code",
      "metadata": {
        "id": "3Lx2ILRtdkY_",
        "colab_type": "code",
        "colab": {}
      },
      "source": [
        "df = df.drop(['cencus_tract'],axis = 1)\n",
        "df = df[['easi_census_tract','preds_good','predicted_sales','county']]\n",
        "df['easi_census_tract'] = df['easi_census_tract'].apply(str)\n",
        "df = pd.merge(df,pop_census_tract,how = 'left',left_on='easi_census_tract',right_on = 'masterdemographics.easi_census_tract')"
      ],
      "execution_count": 0,
      "outputs": []
    },
    {
      "cell_type": "markdown",
      "metadata": {
        "id": "F8CHmQPUeAJs",
        "colab_type": "text"
      },
      "source": [
        "### Get top matured markets to set as centriods"
      ]
    },
    {
      "cell_type": "code",
      "metadata": {
        "id": "VK92rlKZdwqw",
        "colab_type": "code",
        "colab": {}
      },
      "source": [
        "clients_df = clients_df.fillna(0)\n",
        "clients_df['revenue'] = 500*clients_df['life_sales_low_premium'] + 5000*clients_df['life_sales_medium_premium'] + 10000* clients_df['life_sales_high_premium'] + 1000*clients_df['annuities']"
      ],
      "execution_count": 0,
      "outputs": []
    },
    {
      "cell_type": "code",
      "metadata": {
        "id": "4dchRnaVeDTn",
        "colab_type": "code",
        "colab": {}
      },
      "source": [
        "pop_county = pop_county[51:]\n",
        "\n",
        "a=pop_county['masterdemographics.county_fips_code'].apply(str).apply(len) == 4\n",
        "'0' +pop_county['masterdemographics.county_fips_code'].apply(str)\n",
        "pop_county.loc[a,'masterdemographics.county_fips_code']= '0' + pop_county['masterdemographics.county_fips_code'].apply(str)"
      ],
      "execution_count": 0,
      "outputs": []
    },
    {
      "cell_type": "code",
      "metadata": {
        "id": "FXqsQYyqeMwu",
        "colab_type": "code",
        "colab": {}
      },
      "source": [
        "matured_centriods = pd.merge(matured_counties,clients_df,how='left',left_on='Matured_counties',right_on='County_sales')\n",
        "\n",
        "matured_centriods = matured_centriods.dropna(axis='rows')\n",
        "\n",
        "matured_centriods = matured_centriods[['Matured_counties','revenue']]\n",
        "\n",
        "b = matured_centriods['Matured_counties'].apply(str).apply(len) == 4\n",
        "matured_centriods.loc[b,'Matured_counties'] = '0' + matured_centriods['Matured_counties'].apply(str)\n",
        "\n",
        "matured_centriods = pd.merge(matured_centriods,pop_county,how = 'left',left_on='Matured_counties',right_on='masterdemographics.county_fips_code')\n",
        "\n",
        "matured_centriods = matured_centriods.drop(['masterdemographics.county_fips_code'],axis = 1)\n",
        "\n",
        "matured_centriods['rvn_per_cap'] = matured_centriods['revenue']/matured_centriods['masterdemographics.population_1_1_2017']\n",
        "\n",
        "k = 10\n",
        "\n",
        "top_matured = matured_centriods.sort_values('rvn_per_cap',ascending=False)[:k]"
      ],
      "execution_count": 0,
      "outputs": []
    },
    {
      "cell_type": "code",
      "metadata": {
        "id": "75rGljG6eNA2",
        "colab_type": "code",
        "colab": {}
      },
      "source": [
        "agents_count_by_county =agents_df['Agents_county_of_residence'].value_counts()\n",
        "agents_per_county = pd.DataFrame({'County_ID':pd.Series(agents_count_by_county.index.astype(int)),'Agent_counts':pd.Series(agents_count_by_county.values)})\n",
        "\n",
        "c = agents_per_county['County_ID'].apply(str).apply(len) ==4\n",
        "agents_per_county.loc[c,'County_ID'] = '0' + agents_per_county['County_ID'].apply(str)\n",
        "\n",
        "top_matured = pd.merge(top_matured,agents_per_county,how = 'left',left_on='Matured_counties',right_on='County_ID')\n",
        "\n",
        "top_matured = top_matured.fillna(0)\n",
        "top_matured = top_matured.drop(['County_ID'],axis =1)"
      ],
      "execution_count": 0,
      "outputs": []
    },
    {
      "cell_type": "code",
      "metadata": {
        "id": "Uz-xj3npePgD",
        "colab_type": "code",
        "outputId": "18f158e3-6de5-4315-955e-fd30efc44bf5",
        "colab": {
          "base_uri": "https://localhost:8080/",
          "height": 142
        }
      },
      "source": [
        "df_scaled = df.drop('county',axis = 1)\n",
        "deno = np.sqrt(df_scaled['preds_good']**2 + df_scaled['predicted_sales']**2 + df_scaled['masterdemographics.population_1_1_2022']**2)\n",
        "df_scaled['preds_good'] = df_scaled['preds_good'] / deno\n",
        "df_scaled['predicted_sales'] = df_scaled['predicted_sales']/deno\n",
        "df_scaled['masterdemographics.population_1_1_2022'] = df_scaled['masterdemographics.population_1_1_2022']/deno\n",
        "df_scaled.head(3)"
      ],
      "execution_count": 0,
      "outputs": [
        {
          "output_type": "execute_result",
          "data": {
            "text/html": [
              "<div>\n",
              "<style scoped>\n",
              "    .dataframe tbody tr th:only-of-type {\n",
              "        vertical-align: middle;\n",
              "    }\n",
              "\n",
              "    .dataframe tbody tr th {\n",
              "        vertical-align: top;\n",
              "    }\n",
              "\n",
              "    .dataframe thead th {\n",
              "        text-align: right;\n",
              "    }\n",
              "</style>\n",
              "<table border=\"1\" class=\"dataframe\">\n",
              "  <thead>\n",
              "    <tr style=\"text-align: right;\">\n",
              "      <th></th>\n",
              "      <th>easi_census_tract</th>\n",
              "      <th>preds_good</th>\n",
              "      <th>predicted_sales</th>\n",
              "      <th>masterdemographics.population_1_1_2022</th>\n",
              "    </tr>\n",
              "  </thead>\n",
              "  <tbody>\n",
              "    <tr>\n",
              "      <th>0</th>\n",
              "      <td>01001020100</td>\n",
              "      <td>0.000002</td>\n",
              "      <td>0.999920</td>\n",
              "      <td>0.012648</td>\n",
              "    </tr>\n",
              "    <tr>\n",
              "      <th>1</th>\n",
              "      <td>01001020200</td>\n",
              "      <td>0.000002</td>\n",
              "      <td>0.999938</td>\n",
              "      <td>0.011153</td>\n",
              "    </tr>\n",
              "    <tr>\n",
              "      <th>2</th>\n",
              "      <td>01001020300</td>\n",
              "      <td>0.000002</td>\n",
              "      <td>0.999764</td>\n",
              "      <td>0.021729</td>\n",
              "    </tr>\n",
              "  </tbody>\n",
              "</table>\n",
              "</div>"
            ],
            "text/plain": [
              "  easi_census_tract  ...  masterdemographics.population_1_1_2022\n",
              "0       01001020100  ...                                0.012648\n",
              "1       01001020200  ...                                0.011153\n",
              "2       01001020300  ...                                0.021729\n",
              "\n",
              "[3 rows x 4 columns]"
            ]
          },
          "metadata": {
            "tags": []
          },
          "execution_count": 43
        }
      ]
    },
    {
      "cell_type": "code",
      "metadata": {
        "id": "bFjNA_IEenqb",
        "colab_type": "code",
        "outputId": "81565a95-c96b-4a31-851c-adf19b4fde9a",
        "colab": {
          "base_uri": "https://localhost:8080/",
          "height": 359
        }
      },
      "source": [
        "scaled_top = top_matured.drop(['rvn_per_cap','Matured_counties'],axis =1)\n",
        "bot = np.sqrt(scaled_top['revenue']**2 + scaled_top['masterdemographics.population_1_1_2017']**2 + scaled_top['Agent_counts']**2)\n",
        "scaled_top['revenue'] = scaled_top['revenue']/ bot\n",
        "scaled_top['masterdemographics.population_1_1_2017'] = scaled_top['masterdemographics.population_1_1_2017']/ bot\n",
        "scaled_top['Agent_counts'] = scaled_top['Agent_counts']/ bot\n",
        "cols = ['Agent_counts','revenue','masterdemographics.population_1_1_2017']\n",
        "scaled_top = scaled_top[cols]\n",
        "scaled_top.head(k)"
      ],
      "execution_count": 0,
      "outputs": [
        {
          "output_type": "execute_result",
          "data": {
            "text/html": [
              "<div>\n",
              "<style scoped>\n",
              "    .dataframe tbody tr th:only-of-type {\n",
              "        vertical-align: middle;\n",
              "    }\n",
              "\n",
              "    .dataframe tbody tr th {\n",
              "        vertical-align: top;\n",
              "    }\n",
              "\n",
              "    .dataframe thead th {\n",
              "        text-align: right;\n",
              "    }\n",
              "</style>\n",
              "<table border=\"1\" class=\"dataframe\">\n",
              "  <thead>\n",
              "    <tr style=\"text-align: right;\">\n",
              "      <th></th>\n",
              "      <th>Agent_counts</th>\n",
              "      <th>revenue</th>\n",
              "      <th>masterdemographics.population_1_1_2017</th>\n",
              "    </tr>\n",
              "  </thead>\n",
              "  <tbody>\n",
              "    <tr>\n",
              "      <th>0</th>\n",
              "      <td>0.000000e+00</td>\n",
              "      <td>0.999970</td>\n",
              "      <td>0.007770</td>\n",
              "    </tr>\n",
              "    <tr>\n",
              "      <th>1</th>\n",
              "      <td>0.000000e+00</td>\n",
              "      <td>0.999877</td>\n",
              "      <td>0.015657</td>\n",
              "    </tr>\n",
              "    <tr>\n",
              "      <th>2</th>\n",
              "      <td>0.000000e+00</td>\n",
              "      <td>0.999848</td>\n",
              "      <td>0.017433</td>\n",
              "    </tr>\n",
              "    <tr>\n",
              "      <th>3</th>\n",
              "      <td>1.386374e-07</td>\n",
              "      <td>0.999818</td>\n",
              "      <td>0.019076</td>\n",
              "    </tr>\n",
              "    <tr>\n",
              "      <th>4</th>\n",
              "      <td>0.000000e+00</td>\n",
              "      <td>0.999765</td>\n",
              "      <td>0.021659</td>\n",
              "    </tr>\n",
              "    <tr>\n",
              "      <th>5</th>\n",
              "      <td>3.699914e-08</td>\n",
              "      <td>0.999643</td>\n",
              "      <td>0.026723</td>\n",
              "    </tr>\n",
              "    <tr>\n",
              "      <th>6</th>\n",
              "      <td>0.000000e+00</td>\n",
              "      <td>0.999641</td>\n",
              "      <td>0.026787</td>\n",
              "    </tr>\n",
              "    <tr>\n",
              "      <th>7</th>\n",
              "      <td>0.000000e+00</td>\n",
              "      <td>0.999623</td>\n",
              "      <td>0.027439</td>\n",
              "    </tr>\n",
              "    <tr>\n",
              "      <th>8</th>\n",
              "      <td>0.000000e+00</td>\n",
              "      <td>0.999446</td>\n",
              "      <td>0.033267</td>\n",
              "    </tr>\n",
              "    <tr>\n",
              "      <th>9</th>\n",
              "      <td>0.000000e+00</td>\n",
              "      <td>0.999323</td>\n",
              "      <td>0.036788</td>\n",
              "    </tr>\n",
              "  </tbody>\n",
              "</table>\n",
              "</div>"
            ],
            "text/plain": [
              "   Agent_counts   revenue  masterdemographics.population_1_1_2017\n",
              "0  0.000000e+00  0.999970                                0.007770\n",
              "1  0.000000e+00  0.999877                                0.015657\n",
              "2  0.000000e+00  0.999848                                0.017433\n",
              "3  1.386374e-07  0.999818                                0.019076\n",
              "4  0.000000e+00  0.999765                                0.021659\n",
              "5  3.699914e-08  0.999643                                0.026723\n",
              "6  0.000000e+00  0.999641                                0.026787\n",
              "7  0.000000e+00  0.999623                                0.027439\n",
              "8  0.000000e+00  0.999446                                0.033267\n",
              "9  0.000000e+00  0.999323                                0.036788"
            ]
          },
          "metadata": {
            "tags": []
          },
          "execution_count": 44
        }
      ]
    },
    {
      "cell_type": "code",
      "metadata": {
        "id": "GQDy_v4oexK7",
        "colab_type": "code",
        "colab": {}
      },
      "source": [
        "from sklearn.metrics import pairwise_distances\n",
        "vec_df = df_scaled.iloc[:,1:] #this is our prediction\n",
        "simi = pairwise_distances(vec_df.fillna(0),scaled_top)\n",
        "result = pd.DataFrame(simi,index = df_scaled['easi_census_tract'])"
      ],
      "execution_count": 0,
      "outputs": []
    },
    {
      "cell_type": "code",
      "metadata": {
        "id": "LYWY6fCEfsrG",
        "colab_type": "code",
        "colab": {}
      },
      "source": [
        "result = result.apply(lambda x: 1-x)\n",
        "result['county'] = [str(x)[:5] for x in list(result.index)]\n",
        "result = pd.merge(result,pop_census_tract,left_index = True,right_on = 'masterdemographics.easi_census_tract')\n",
        "result.columns = ['top1','top2','top3','top4','top5','top6','top7','top8','top9','top10','county','population']\n",
        "counties = np.unique(result.county)\n",
        "county_score = pd.DataFrame(columns = ['county','score'])\n",
        "county_score['county'] = counties\n",
        "for county in counties:\n",
        "  county_df = result.loc[result.county == county,['top1','county','population']]\n",
        "  county_score.loc[county_score.county == county,'score'] = np.dot(county_df.top1 ,county_df.population)\n",
        "county_score = county_score.sort_values('score',ascending=False)"
      ],
      "execution_count": 0,
      "outputs": []
    },
    {
      "cell_type": "code",
      "metadata": {
        "id": "TvZ0OAfFjMK_",
        "colab_type": "code",
        "outputId": "7f5a000a-1282-41e0-a366-95abee7d604f",
        "colab": {
          "base_uri": "https://localhost:8080/",
          "height": 683
        }
      },
      "source": [
        "! pip install dbfread\n",
        "! pip install geopandas\n",
        "! pip install simpledbf"
      ],
      "execution_count": 0,
      "outputs": [
        {
          "output_type": "stream",
          "text": [
            "Collecting dbfread\n",
            "  Downloading https://files.pythonhosted.org/packages/4c/94/51349e43503e30ed7b4ecfe68a8809cdb58f722c0feb79d18b1f1e36fe74/dbfread-2.0.7-py2.py3-none-any.whl\n",
            "Installing collected packages: dbfread\n",
            "Successfully installed dbfread-2.0.7\n",
            "Collecting geopandas\n",
            "\u001b[?25l  Downloading https://files.pythonhosted.org/packages/5b/0c/e6c99e561b03482220f00443f610ccf4dce9b50f4b1093d735f93c6fc8c6/geopandas-0.6.2-py2.py3-none-any.whl (919kB)\n",
            "\u001b[K     |████████████████████████████████| 921kB 4.9MB/s \n",
            "\u001b[?25hRequirement already satisfied: shapely in /usr/local/lib/python3.6/dist-packages (from geopandas) (1.6.4.post2)\n",
            "Requirement already satisfied: pandas>=0.23.0 in /usr/local/lib/python3.6/dist-packages (from geopandas) (0.25.3)\n",
            "Collecting pyproj\n",
            "\u001b[?25l  Downloading https://files.pythonhosted.org/packages/d6/70/eedc98cd52b86de24a1589c762612a98bea26cde649ffdd60c1db396cce8/pyproj-2.4.2.post1-cp36-cp36m-manylinux2010_x86_64.whl (10.1MB)\n",
            "\u001b[K     |████████████████████████████████| 10.1MB 24.4MB/s \n",
            "\u001b[?25hCollecting fiona\n",
            "\u001b[?25l  Downloading https://files.pythonhosted.org/packages/50/f7/9899f8a9a2e38601472fe1079ce5088f58833221c8b8507d8b5eafd5404a/Fiona-1.8.13-cp36-cp36m-manylinux1_x86_64.whl (11.8MB)\n",
            "\u001b[K     |████████████████████████████████| 11.8MB 36.1MB/s \n",
            "\u001b[?25hRequirement already satisfied: numpy>=1.13.3 in /usr/local/lib/python3.6/dist-packages (from pandas>=0.23.0->geopandas) (1.17.4)\n",
            "Requirement already satisfied: pytz>=2017.2 in /usr/local/lib/python3.6/dist-packages (from pandas>=0.23.0->geopandas) (2018.9)\n",
            "Requirement already satisfied: python-dateutil>=2.6.1 in /usr/local/lib/python3.6/dist-packages (from pandas>=0.23.0->geopandas) (2.6.1)\n",
            "Collecting click-plugins>=1.0\n",
            "  Downloading https://files.pythonhosted.org/packages/e9/da/824b92d9942f4e472702488857914bdd50f73021efea15b4cad9aca8ecef/click_plugins-1.1.1-py2.py3-none-any.whl\n",
            "Collecting munch\n",
            "  Downloading https://files.pythonhosted.org/packages/cc/ab/85d8da5c9a45e072301beb37ad7f833cd344e04c817d97e0cc75681d248f/munch-2.5.0-py2.py3-none-any.whl\n",
            "Collecting cligj>=0.5\n",
            "  Downloading https://files.pythonhosted.org/packages/e4/be/30a58b4b0733850280d01f8bd132591b4668ed5c7046761098d665ac2174/cligj-0.5.0-py3-none-any.whl\n",
            "Requirement already satisfied: six>=1.7 in /usr/local/lib/python3.6/dist-packages (from fiona->geopandas) (1.12.0)\n",
            "Requirement already satisfied: click<8,>=4.0 in /usr/local/lib/python3.6/dist-packages (from fiona->geopandas) (7.0)\n",
            "Requirement already satisfied: attrs>=17 in /usr/local/lib/python3.6/dist-packages (from fiona->geopandas) (19.3.0)\n",
            "Installing collected packages: pyproj, click-plugins, munch, cligj, fiona, geopandas\n",
            "Successfully installed click-plugins-1.1.1 cligj-0.5.0 fiona-1.8.13 geopandas-0.6.2 munch-2.5.0 pyproj-2.4.2.post1\n",
            "Collecting simpledbf\n",
            "  Downloading https://files.pythonhosted.org/packages/8a/d3/e4c25cd8f739dd7ddd19c255cd5552e08cdd439ac51a36ae12640ce8a748/simpledbf-0.2.6.tar.gz\n",
            "Building wheels for collected packages: simpledbf\n",
            "  Building wheel for simpledbf (setup.py) ... \u001b[?25l\u001b[?25hdone\n",
            "  Created wheel for simpledbf: filename=simpledbf-0.2.6-cp36-none-any.whl size=13793 sha256=8cd231f60b4a91371900eefdb93bcecfb7266832a0ef4a38603b0435c5b12da5\n",
            "  Stored in directory: /root/.cache/pip/wheels/72/dd/df/cdfb970a508ef9750ebb4b6e035a3410c3d62b5a6a91d2aafc\n",
            "Successfully built simpledbf\n",
            "Installing collected packages: simpledbf\n",
            "Successfully installed simpledbf-0.2.6\n"
          ],
          "name": "stdout"
        }
      ]
    },
    {
      "cell_type": "code",
      "metadata": {
        "id": "jas4Fas0kZg4",
        "colab_type": "code",
        "colab": {}
      },
      "source": [
        "from dbfread import DBF\n",
        "import pandas as pd\n",
        "import geopandas as gpd\n",
        "from simpledbf import Dbf5\n",
        "import matplotlib.pyplot as plt\n",
        "import descartes\n",
        "from shapely.geometry import Point, Polygon"
      ],
      "execution_count": 0,
      "outputs": []
    },
    {
      "cell_type": "code",
      "metadata": {
        "id": "-5geUSWPkdvV",
        "colab_type": "code",
        "colab": {}
      },
      "source": [
        "county_shape = gpd.read_file('/content/drive/My Drive/1006Capstone-NYLife/tl_2018_us_county/tl_2018_us_county.shp')"
      ],
      "execution_count": 0,
      "outputs": []
    },
    {
      "cell_type": "code",
      "metadata": {
        "id": "fXVbZeuVk2nd",
        "colab_type": "code",
        "colab": {}
      },
      "source": [
        "county_shape ['INTPTLAT'] = county_shape ['INTPTLAT'].astype(float)\n",
        "county_shape ['INTPTLON'] = county_shape ['INTPTLON'].astype(float)\n",
        "county_shape_mainland = county_shape [(county_shape ['INTPTLAT'] > 25) & (county_shape ['INTPTLAT'] < 50) \n",
        "                                 &(county_shape ['INTPTLON'] > -140)& (county_shape ['INTPTLON'] < -60) ]"
      ],
      "execution_count": 0,
      "outputs": []
    },
    {
      "cell_type": "code",
      "metadata": {
        "id": "v_6ItAyGloc_",
        "colab_type": "code",
        "colab": {}
      },
      "source": [
        "county_shape_mainland = pd.merge(county_shape_mainland,county_score, left_on = 'GEOID',right_on = 'county',how = 'left')"
      ],
      "execution_count": 0,
      "outputs": []
    },
    {
      "cell_type": "code",
      "metadata": {
        "id": "taqIS04ul4cq",
        "colab_type": "code",
        "colab": {}
      },
      "source": [
        "county_shape_mainland[['county','score']] = county_shape_mainland[['county','score']].fillna(0)"
      ],
      "execution_count": 0,
      "outputs": []
    },
    {
      "cell_type": "code",
      "metadata": {
        "id": "2gbzfMZri62Y",
        "colab_type": "code",
        "colab": {}
      },
      "source": [
        "SCZ_counties = pd.read_csv('/content/drive/My Drive/NYL_data/south_central_zone_sm.csv')"
      ],
      "execution_count": 0,
      "outputs": []
    },
    {
      "cell_type": "code",
      "metadata": {
        "id": "RnN1FaHVnBHb",
        "colab_type": "code",
        "colab": {}
      },
      "source": [
        "scz_county = [str(x).zfill(5) for x in SCZ_counties.FIPS.astype(int)]\n",
        "SCZ_counties = pd.read_csv('/content/drive/My Drive/NYL_data/south_central_zone_sm.csv')\n",
        "#county_shape_mainland['GEOID'] = county_shape_mainland['GEOID'].astype(int)\n",
        "county_shape_mainland['GEOstr'] = [x.zfill(5) for x in county_shape_mainland['GEOID'].astype(str)]\n",
        "county_shape_mainland['SCZ'] = [x in scz_county for x in county_shape_mainland.GEOstr]"
      ],
      "execution_count": 0,
      "outputs": []
    },
    {
      "cell_type": "code",
      "metadata": {
        "id": "tRDtpHGynOfi",
        "colab_type": "code",
        "colab": {}
      },
      "source": [
        "scz_shape = county_shape_mainland.loc[county_shape_mainland.SCZ == 1]\n",
        "top_1 = county_shape_mainland.loc[county_shape_mainland.GEOID == '13075']"
      ],
      "execution_count": 0,
      "outputs": []
    },
    {
      "cell_type": "code",
      "metadata": {
        "id": "9221sS4Ot9-Z",
        "colab_type": "code",
        "colab": {}
      },
      "source": [
        "GO_office = gpd.read_file('/content/drive/My Drive/1006Capstone-NYLife/GO_Addr_v081017_enc/GO_Addr_v081017.shp')\n",
        "Sales_office = gpd.read_file('/content/drive/My Drive/1006Capstone-NYLife//SLS_Addr_v081017_enc/SLS_Addr_v081017.shp')\n",
        "GO_office = GO_office[GO_office.ST_CD != 'AK']\n",
        "GO_office = GO_office[GO_office.ST_CD != 'HI']"
      ],
      "execution_count": 0,
      "outputs": []
    },
    {
      "cell_type": "code",
      "metadata": {
        "id": "MNqOl2KhuNDM",
        "colab_type": "code",
        "colab": {}
      },
      "source": [
        "SCZ_office = pd.read_csv('/content/drive/My Drive/NYL_data/office_concat_countyID_filled.csv')\n",
        "SCZ_office = SCZ_office.loc[[x in list(SCZ_counties.FIPS) for x in list(SCZ_office.countyID)]]\n",
        "SCZ_Sales_office_shape = Sales_office.loc[[x in list(SCZ_office.OU_CD) for x in list(Sales_office.OU_CD)]]\n",
        "SCZ_GO_office_shape = GO_office.loc[[x in list(SCZ_office.OU_CD) for x in list(GO_office.OU_CD)]]"
      ],
      "execution_count": 0,
      "outputs": []
    },
    {
      "cell_type": "code",
      "metadata": {
        "id": "c2vZMojZu_Hp",
        "colab_type": "code",
        "colab": {}
      },
      "source": [
        "state = gpd.read_file('/content/drive/My Drive/NYL_data/state_shape_file/cb_2018_us_state_500k.shp')\n",
        "state = state.loc[[x in ['12','13','18','21','24','26','28','37','39','45','47','51','54','01'] for x in state.STATEFP]]\n",
        "state['coords'] = state['geometry'].apply(lambda x: x.representative_point().coords[:])\n",
        "state['coords'] = [coords[0] for coords in state['coords']]"
      ],
      "execution_count": 0,
      "outputs": []
    },
    {
      "cell_type": "code",
      "metadata": {
        "id": "zp_FRoB5T7OB",
        "colab_type": "code",
        "colab": {}
      },
      "source": [
        "suggested_county = ['12071','37081','12115','12083','37063','26065','12001','37021','37129']\n",
        "#suggested_county = ['12083','12001','12071','37081','12115']\n",
        "suggested_office = county_shape_mainland.loc[[x in suggested_county for x in list(county_shape_mainland.GEOID)]]"
      ],
      "execution_count": 0,
      "outputs": []
    },
    {
      "cell_type": "code",
      "metadata": {
        "id": "R4FbCflew9c_",
        "colab_type": "code",
        "outputId": "2e6ec5ad-5cea-4aab-8cc2-5c5aa4551f70",
        "colab": {
          "base_uri": "https://localhost:8080/",
          "height": 377
        }
      },
      "source": [
        "!pip install mapclassify\n",
        "import mapclassify"
      ],
      "execution_count": 0,
      "outputs": [
        {
          "output_type": "stream",
          "text": [
            "Collecting mapclassify\n",
            "  Downloading https://files.pythonhosted.org/packages/9f/db/f35469e8acd792dad07e8908cd0df03615dad5e3bf4dac79d9e8512cef89/mapclassify-2.1.1.tar.gz\n",
            "Requirement already satisfied: scipy>=0.11 in /usr/local/lib/python3.6/dist-packages (from mapclassify) (1.3.3)\n",
            "Requirement already satisfied: numpy>=1.3 in /usr/local/lib/python3.6/dist-packages (from mapclassify) (1.17.4)\n",
            "Requirement already satisfied: scikit-learn in /usr/local/lib/python3.6/dist-packages (from mapclassify) (0.21.3)\n",
            "Requirement already satisfied: pandas in /usr/local/lib/python3.6/dist-packages (from mapclassify) (0.25.3)\n",
            "Collecting deprecated\n",
            "  Downloading https://files.pythonhosted.org/packages/f6/89/62912e01f3cede11edcc0abf81298e3439d9c06c8dce644369380ed13f6d/Deprecated-1.2.7-py2.py3-none-any.whl\n",
            "Requirement already satisfied: joblib>=0.11 in /usr/local/lib/python3.6/dist-packages (from scikit-learn->mapclassify) (0.14.0)\n",
            "Requirement already satisfied: pytz>=2017.2 in /usr/local/lib/python3.6/dist-packages (from pandas->mapclassify) (2018.9)\n",
            "Requirement already satisfied: python-dateutil>=2.6.1 in /usr/local/lib/python3.6/dist-packages (from pandas->mapclassify) (2.6.1)\n",
            "Requirement already satisfied: wrapt<2,>=1.10 in /usr/local/lib/python3.6/dist-packages (from deprecated->mapclassify) (1.11.2)\n",
            "Requirement already satisfied: six>=1.5 in /usr/local/lib/python3.6/dist-packages (from python-dateutil>=2.6.1->pandas->mapclassify) (1.12.0)\n",
            "Building wheels for collected packages: mapclassify\n",
            "  Building wheel for mapclassify (setup.py) ... \u001b[?25l\u001b[?25hdone\n",
            "  Created wheel for mapclassify: filename=mapclassify-2.1.1-cp36-none-any.whl size=29001 sha256=ed6d356f1f7089b7212a9df33dc289a61fd93b1f8011c46e9cac32516241ecdf\n",
            "  Stored in directory: /root/.cache/pip/wheels/fc/b8/58/56b650743289cbecb476ef1fc50ab0aeaa0b12e56ad912d624\n",
            "Successfully built mapclassify\n",
            "Installing collected packages: deprecated, mapclassify\n",
            "Successfully installed deprecated-1.2.7 mapclassify-2.1.1\n"
          ],
          "name": "stdout"
        }
      ]
    },
    {
      "cell_type": "code",
      "metadata": {
        "id": "mRNU5JmNl-Fh",
        "colab_type": "code",
        "outputId": "7c5e1afd-5bf7-481d-ca93-5fda1732adff",
        "colab": {
          "base_uri": "https://localhost:8080/",
          "height": 877
        }
      },
      "source": [
        "variable = 'score'\n",
        "# set the range for the choropleth\n",
        "vmin, vmax = 120, 220\n",
        "# create figure and axes for Matplotlib\n",
        "fig, ax = plt.subplots(1, figsize=(15, 15))\n",
        "state.plot(ax = ax,color='white',lw =1,edgecolor = 'darkblue')\n",
        "for idx, row in state.iterrows():\n",
        "    plt.annotate(s=row['STUSPS'], xy=row['coords'],\n",
        "                 horizontalalignment='center')\n",
        "scz_shape.plot(column=variable, cmap='Blues', linewidth=0.8, ax=ax, edgecolor=None, scheme = 'boxplot')\n",
        "\n",
        "SCZ_GO_office_shape.plot(ax = ax,marker='*', color='red', markersize=30,label = 'Office',legend = True)\n",
        "SCZ_Sales_office_shape.plot(ax = ax,marker='*', color='red', markersize=30,legend = True)\n",
        "top_1.plot(ax = ax,color = 'yellow',label = 'mostekwbdjewk',legend = True)\n",
        "suggested_office.plot(ax = ax,color = 'green')\n",
        "plt.xlabel('longitude')\n",
        "plt.ylabel('latitude')\n",
        "leg = ax.legend()\n",
        "fig = ax.get_figure()\n",
        "fig.savefig('prediction')"
      ],
      "execution_count": 0,
      "outputs": [
        {
          "output_type": "display_data",
          "data": {
            "image/png": "[encoded data removed]",
            "text/plain": [
              "<Figure size 1080x1080 with 1 Axes>"
            ]
          },
          "metadata": {
            "tags": []
          }
        }
      ]
    },
    {
      "cell_type": "code",
      "metadata": {
        "id": "_NS0s0pjuU8a",
        "colab_type": "code",
        "colab": {}
      },
      "source": [
        "office_county = pd.read_csv('/content/drive/My Drive/NYL_data/office_concat_countyID_filled.csv')\n",
        "office_county = [str(x).zfill(5) for x in office_county.countyID]"
      ],
      "execution_count": 0,
      "outputs": []
    },
    {
      "cell_type": "code",
      "metadata": {
        "id": "6af12b_tufL2",
        "colab_type": "code",
        "colab": {}
      },
      "source": [
        "scz_shape = scz_shape.loc[[x not in office_county for x in list(scz_shape.GEOstr)]]"
      ],
      "execution_count": 0,
      "outputs": []
    },
    {
      "cell_type": "code",
      "metadata": {
        "id": "B0QCheJhdMci",
        "colab_type": "code",
        "outputId": "66b482c0-df42-4519-dc90-c85fcffb9a60",
        "colab": {
          "base_uri": "https://localhost:8080/",
          "height": 241
        }
      },
      "source": [
        "top_1['coords'] = top_1['geometry'].apply(lambda x: x.representative_point().coords[:])\n",
        "top_1['geometry'] = [(-83.42938779854369, 31.1888135)]\n",
        "#top_1['coords'] = [coords[0] for coords in top_counties['coords']]"
      ],
      "execution_count": 0,
      "outputs": [
        {
          "output_type": "stream",
          "text": [
            "/usr/local/lib/python3.6/dist-packages/ipykernel_launcher.py:1: SettingWithCopyWarning: \n",
            "A value is trying to be set on a copy of a slice from a DataFrame.\n",
            "Try using .loc[row_indexer,col_indexer] = value instead\n",
            "\n",
            "See the caveats in the documentation: http://pandas.pydata.org/pandas-docs/stable/user_guide/indexing.html#returning-a-view-versus-a-copy\n",
            "  \"\"\"Entry point for launching an IPython kernel.\n",
            "/usr/local/lib/python3.6/dist-packages/ipykernel_launcher.py:2: SettingWithCopyWarning: \n",
            "A value is trying to be set on a copy of a slice from a DataFrame.\n",
            "Try using .loc[row_indexer,col_indexer] = value instead\n",
            "\n",
            "See the caveats in the documentation: http://pandas.pydata.org/pandas-docs/stable/user_guide/indexing.html#returning-a-view-versus-a-copy\n",
            "  \n"
          ],
          "name": "stderr"
        }
      ]
    },
    {
      "cell_type": "code",
      "metadata": {
        "id": "pQRRcTn6F_zl",
        "colab_type": "code",
        "colab": {}
      },
      "source": [
        "offices = pd.concat([GO_office,Sales_office])\n",
        "offices = offices.reset_index()"
      ],
      "execution_count": 0,
      "outputs": []
    },
    {
      "cell_type": "code",
      "metadata": {
        "id": "oOByBRvLTLdo",
        "colab_type": "code",
        "colab": {}
      },
      "source": [
        "county_score = county_score.sort_values('score',ascending=False)"
      ],
      "execution_count": 0,
      "outputs": []
    },
    {
      "cell_type": "code",
      "metadata": {
        "id": "tdrW764qEjDb",
        "colab_type": "code",
        "colab": {}
      },
      "source": [
        "top_5_county = county_score['county'][:50]\n",
        "top_counties = scz_shape.loc[[x in list(top_5_county) for x in list(scz_shape.GEOID)]]"
      ],
      "execution_count": 0,
      "outputs": []
    },
    {
      "cell_type": "code",
      "metadata": {
        "id": "Cr0rmj9-PT3X",
        "colab_type": "code",
        "outputId": "79da7875-7887-4907-e5fd-cd22202721ee",
        "colab": {
          "base_uri": "https://localhost:8080/",
          "height": 241
        }
      },
      "source": [
        "offices['coords'] = offices['geometry'].apply(lambda x: x.representative_point().coords[:])\n",
        "offices['coords'] = [coords[0] for coords in offices['coords']]\n",
        "top_counties['coords'] = top_counties['geometry'].apply(lambda x: x.representative_point().coords[:])\n",
        "top_counties['coords'] = [coords[0] for coords in top_counties['coords']]"
      ],
      "execution_count": 0,
      "outputs": [
        {
          "output_type": "stream",
          "text": [
            "/usr/local/lib/python3.6/dist-packages/ipykernel_launcher.py:3: SettingWithCopyWarning: \n",
            "A value is trying to be set on a copy of a slice from a DataFrame.\n",
            "Try using .loc[row_indexer,col_indexer] = value instead\n",
            "\n",
            "See the caveats in the documentation: http://pandas.pydata.org/pandas-docs/stable/user_guide/indexing.html#returning-a-view-versus-a-copy\n",
            "  This is separate from the ipykernel package so we can avoid doing imports until\n",
            "/usr/local/lib/python3.6/dist-packages/ipykernel_launcher.py:4: SettingWithCopyWarning: \n",
            "A value is trying to be set on a copy of a slice from a DataFrame.\n",
            "Try using .loc[row_indexer,col_indexer] = value instead\n",
            "\n",
            "See the caveats in the documentation: http://pandas.pydata.org/pandas-docs/stable/user_guide/indexing.html#returning-a-view-versus-a-copy\n",
            "  after removing the cwd from sys.path.\n"
          ],
          "name": "stderr"
        }
      ]
    },
    {
      "cell_type": "code",
      "metadata": {
        "id": "qm71Sv-eHB9F",
        "colab_type": "code",
        "colab": {}
      },
      "source": [
        "distance_result = pd.DataFrame(columns = ['county'] + list(offices.OU_CD.values))\n",
        "distance_result['county'] = top_5_county"
      ],
      "execution_count": 0,
      "outputs": []
    },
    {
      "cell_type": "code",
      "metadata": {
        "id": "s2_5eQ34Oa_W",
        "colab_type": "code",
        "colab": {}
      },
      "source": [
        "import geopy.distance\n",
        "for top_county in top_5_county:\n",
        "  for i in range(offices.shape[0]):\n",
        "    coords_1 = offices.loc[i,['coords']]\n",
        "    office = offices.loc[i,'OU_CD']\n",
        "    coords_2 = top_counties.loc[top_counties.GEOID == top_county,['coords']]\n",
        "    try:\n",
        "      distance_result.loc[distance_result.county == top_county,office] = geopy.distance.vincenty(coords_1.values[0][::-1], coords_2.values[0][0][::-1]).miles\n",
        "    except:\n",
        "      continue"
      ],
      "execution_count": 0,
      "outputs": []
    },
    {
      "cell_type": "code",
      "metadata": {
        "id": "DaGmfN56JIEs",
        "colab_type": "code",
        "outputId": "dba93a81-a5bc-4f8d-9950-84fc32e61009",
        "colab": {
          "base_uri": "https://localhost:8080/",
          "height": 884
        }
      },
      "source": [
        "distance_result\n",
        "a =distance_result.drop(['county'],1)\n",
        "a.min(1)"
      ],
      "execution_count": 0,
      "outputs": [
        {
          "output_type": "execute_result",
          "data": {
            "text/plain": [
              "402     16.293440\n",
              "683           NaN\n",
              "94      15.921694\n",
              "215     11.052506\n",
              "381     22.611843\n",
              "86     103.148508\n",
              "607     21.240885\n",
              "95      46.051040\n",
              "36            NaN\n",
              "345     10.048711\n",
              "75      45.029353\n",
              "574     18.754491\n",
              "559     38.335743\n",
              "103     31.411766\n",
              "477     80.388849\n",
              "93      25.426976\n",
              "211     23.139442\n",
              "727     11.444581\n",
              "784     13.068809\n",
              "48            NaN\n",
              "98      55.458016\n",
              "707     24.584093\n",
              "573     42.338965\n",
              "401     33.600511\n",
              "523     19.462485\n",
              "89      37.281575\n",
              "44            NaN\n",
              "90      59.070554\n",
              "675     19.064818\n",
              "279     62.121690\n",
              "470     93.119222\n",
              "697           NaN\n",
              "645     20.140539\n",
              "473    103.438475\n",
              "552     27.547824\n",
              "597     23.988779\n",
              "97      43.578576\n",
              "368     58.046095\n",
              "590     15.219591\n",
              "236     54.422353\n",
              "72      60.098019\n",
              "459     54.363408\n",
              "773           NaN\n",
              "661      8.638535\n",
              "754      9.159201\n",
              "779      9.038825\n",
              "548     41.829572\n",
              "128     22.380937\n",
              "50            NaN\n",
              "492     64.572080\n",
              "dtype: float64"
            ]
          },
          "metadata": {
            "tags": []
          },
          "execution_count": 99
        }
      ]
    },
    {
      "cell_type": "code",
      "metadata": {
        "id": "JKOrCVCmMHfo",
        "colab_type": "code",
        "colab": {}
      },
      "source": [
        ""
      ],
      "execution_count": 0,
      "outputs": []
    }
  ]
}